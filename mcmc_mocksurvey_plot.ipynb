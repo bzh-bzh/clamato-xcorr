{
 "cells": [
  {
   "cell_type": "code",
   "execution_count": null,
   "id": "5ba64bd3-7ab0-499f-b076-d58d182a185d",
   "metadata": {},
   "outputs": [],
   "source": [
    "from pathlib import Path\n",
    "import glob\n",
    "\n",
    "import corner\n",
    "import emcee\n",
    "import yaml\n",
    "import numpy as np\n",
    "%pylab inline\n",
    "\n",
    "import constants"
   ]
  },
  {
   "cell_type": "code",
   "execution_count": null,
   "id": "5ecd2f13-3a47-4881-b1ca-5128f2697cda",
   "metadata": {},
   "outputs": [],
   "source": [
    "IVOL_DENS_MAP = {\n",
    "    33: -0.16804129,\n",
    "    55: 0.007637806,\n",
    "    17: 0.15005589,\n",
    "    59: 0.05978356\n",
    "}\n",
    "\n",
    "# survey: (burnin, thin)\n",
    "MCMC_PARAM_MAP = {\n",
    "    'clamato': (68, 16),\n",
    "    'zDeep': (68, 16)\n",
    "}\n",
    "\n",
    "MCMC_BASE = Path(constants.XCORR_DIR_BASE) / 'mock' / 'mcmc'"
   ]
  },
  {
   "cell_type": "code",
   "execution_count": null,
   "id": "a8ee25fa-e228-41d2-90db-ce2338f7e646",
   "metadata": {},
   "outputs": [],
   "source": [
    "bias_mcmc_dict = {s: {} for s in MCMC_PARAM_MAP.keys()}\n",
    "\n",
    "for survey, (burnin, thin) in MCMC_PARAM_MAP.items():\n",
    "    data_dir = MCMC_BASE / survey\n",
    "    for cfg_path in glob.glob(str(data_dir / f'{survey}*.yaml')):\n",
    "        with open(cfg_path, 'r') as f:\n",
    "            ivol = yaml.safe_load(f)['ivol']\n",
    "        chain_filename = 'chain_' + cfg_path.split('/')[-1][:-5] + '.hdf5'\n",
    "        chain_path = '/'.join(cfg_path.split('/')[:-1] + [chain_filename])\n",
    "        backend = emcee.backends.HDFBackend(chain_path, read_only=True)\n",
    "        samples = backend.get_chain(flat=True, discard=burnin, thin=thin)\n",
    "        assert samples.size > 0\n",
    "        assert np.sum(np.isnan(samples)) == 0\n",
    "        bias_median = np.median(samples[:, 0])\n",
    "        if ivol not in bias_mcmc_dict[survey]:\n",
    "            bias_mcmc_dict[survey][ivol] = []\n",
    "        bias_mcmc_dict[survey][ivol].append(bias_median)"
   ]
  },
  {
   "cell_type": "code",
   "execution_count": null,
   "id": "2489728b-a6de-4e78-a49a-de4fe1683585",
   "metadata": {},
   "outputs": [],
   "source": [
    "def plot_dens_vs_bias(survey_name):\n",
    "    bias_dict = bias_mcmc_dict[survey_name]\n",
    "    for ivol, bias_list in bias_dict.items():\n",
    "        mean_dens = IVOL_DENS_MAP[ivol]\n",
    "        plt.scatter(np.repeat(mean_dens, len(bias_list)), bias_list, alpha=0.5, color='grey')\n",
    "        plt.scatter(mean_dens, np.mean(bias_list), color='red')"
   ]
  },
  {
   "cell_type": "code",
   "execution_count": null,
   "id": "30e71a74-2da5-4945-8345-93bb0c0f2915",
   "metadata": {},
   "outputs": [],
   "source": [
    "plot_dens_vs_bias('clamato')\n",
    "plt.scatter(0.06294089, 3.87, color='blue', marker='*')"
   ]
  },
  {
   "cell_type": "code",
   "execution_count": null,
   "id": "d33bf52a-7f21-4e37-9763-c6f8f27a027b",
   "metadata": {},
   "outputs": [],
   "source": [
    "plot_dens_vs_bias('zDeep')\n",
    "plt.scatter(0.06294089, 3.93, color='blue', marker='*')"
   ]
  }
 ],
 "metadata": {
  "kernelspec": {
   "display_name": "clamato-xcorr",
   "language": "python",
   "name": "clamato-xcorr"
  },
  "language_info": {
   "codemirror_mode": {
    "name": "ipython",
    "version": 3
   },
   "file_extension": ".py",
   "mimetype": "text/x-python",
   "name": "python",
   "nbconvert_exporter": "python",
   "pygments_lexer": "ipython3",
   "version": "3.6.13"
  }
 },
 "nbformat": 4,
 "nbformat_minor": 5
}
