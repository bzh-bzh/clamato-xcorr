{
 "cells": [
  {
   "cell_type": "code",
   "execution_count": null,
   "id": "43ddb492-df5d-4aa4-a12d-dfe243496431",
   "metadata": {},
   "outputs": [],
   "source": [
    "import os\n",
    "\n",
    "import emcee\n",
    "import corner\n",
    "%pylab inline\n",
    "\n",
    "import constants"
   ]
  },
  {
   "cell_type": "code",
   "execution_count": null,
   "id": "18c292e6-22d2-476d-a540-ecf5742ba7dc",
   "metadata": {},
   "outputs": [],
   "source": [
    "def corner_plot(survey_name):\n",
    "    backend = emcee.backends.HDFBackend(os.path.join(constants.MCMC_DIR_BASE, f'chain_{survey_name}.hdf5'))\n",
    "\n",
    "    tau = backend.get_autocorr_time(quiet=True)\n",
    "    burnin = int(2 * np.max(tau))\n",
    "    thin = int(0.5 * np.min(tau))\n",
    "    samples = backend.get_chain(discard=burnin, flat=True, thin=thin)\n",
    "    # log_prob_samples = backend.get_log_prob(discard=burnin, flat=True, thin=thin)\n",
    "    \n",
    "    # log_prior_samples = backend.get_blobs(discard=burnin, flat=True, thin=thin)\n",
    "    # print(backend.get_blobs())\n",
    "\n",
    "    print(f\"Autocorrelation time: {tau}\")\n",
    "    print(f\"Chain length / 50: {len(backend.get_chain()) / 50:.2f}\")\n",
    "    print(\"Burn-in: {0}\".format(burnin))\n",
    "    print(\"Thin: {0}\".format(thin))\n",
    "    print(\"Flat chain shape: {0}; {1:.1f} autocorrelation times.\".format(samples.shape, samples.shape[0] / np.max(tau)))\n",
    "    # print(\"flat log prob shape: {0}\".format(log_prob_samples.shape))\n",
    "    # print(\"flat log prior shape: {0}\".format(log_prior_samples.shape))\n",
    "    corner.corner(samples, labels=['b', r'$\\sigma_z$', r'$\\delta_z$'], show_titles=True)\n",
    "    plt.savefig(os.path.join(constants.FIG_DIR_BASE, 'mcmc', f'corner_{survey_name}.pdf'))\n",
    "    plt.savefig(os.path.join(constants.FIG_DIR_BASE, 'mcmc', f'corner_{survey_name}.png'))"
   ]
  },
  {
   "cell_type": "code",
   "execution_count": null,
   "id": "bad91459-4734-4657-b2d0-fdc9355cda12",
   "metadata": {},
   "outputs": [],
   "source": [
    "corner_plot('vuds')"
   ]
  },
  {
   "cell_type": "code",
   "execution_count": null,
   "id": "db5697cb-acd3-4578-92f7-ca1eb613fa99",
   "metadata": {},
   "outputs": [],
   "source": [
    "corner_plot('zDeep')"
   ]
  },
  {
   "cell_type": "code",
   "execution_count": null,
   "id": "01bc623f-acf6-4a09-af27-8627d5a1f0e7",
   "metadata": {},
   "outputs": [],
   "source": [
    "corner_plot('mosdef')"
   ]
  },
  {
   "cell_type": "code",
   "execution_count": null,
   "id": "ca0e4d13-f507-491c-bcfb-9eed2d5c9a8c",
   "metadata": {},
   "outputs": [],
   "source": [
    "corner_plot('clamato')"
   ]
  },
  {
   "cell_type": "code",
   "execution_count": null,
   "id": "7bc95158-7928-44f2-ab5b-aeda79984ccb",
   "metadata": {},
   "outputs": [],
   "source": [
    "corner_plot('3dhst')"
   ]
  }
 ],
 "metadata": {
  "kernelspec": {
   "display_name": "clamato-xcorr",
   "language": "python",
   "name": "clamato-xcorr"
  },
  "language_info": {
   "codemirror_mode": {
    "name": "ipython",
    "version": 3
   },
   "file_extension": ".py",
   "mimetype": "text/x-python",
   "name": "python",
   "nbconvert_exporter": "python",
   "pygments_lexer": "ipython3",
   "version": "3.6.13"
  }
 },
 "nbformat": 4,
 "nbformat_minor": 5
}
