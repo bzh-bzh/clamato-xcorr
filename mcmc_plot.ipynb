{
 "cells": [
  {
   "cell_type": "code",
   "execution_count": null,
   "id": "43ddb492-df5d-4aa4-a12d-dfe243496431",
   "metadata": {},
   "outputs": [],
   "source": [
    "import os\n",
    "import glob\n",
    "\n",
    "import emcee\n",
    "import corner\n",
    "import yaml\n",
    "%pylab inline\n",
    "\n",
    "import constants"
   ]
  },
  {
   "cell_type": "code",
   "execution_count": null,
   "id": "18c292e6-22d2-476d-a540-ecf5742ba7dc",
   "metadata": {},
   "outputs": [],
   "source": [
    "def corner_plot(survey_name, show_grid_fit=False, **kwargs):\n",
    "    backend = emcee.backends.HDFBackend(os.path.join(constants.MCMC_DIR_BASE, survey_name, f'chain_{survey_name}.hdf5'), read_only=True)\n",
    "    config = None\n",
    "    for p in glob.glob('mcmc_cfg/*.yaml'):\n",
    "        if p.split('/')[-1].casefold() == f'{survey_name.casefold()}.yaml':\n",
    "            with open(p, 'r') as f:\n",
    "                config = yaml.safe_load(f)\n",
    "    if not config:\n",
    "        raise RuntimeError\n",
    "    tau = backend.get_autocorr_time(quiet=True)\n",
    "    burnin = int(2 * np.max(tau))\n",
    "    thin = int(0.5 * np.min(tau))\n",
    "    # thin = int(np.max(tau))\n",
    "    chain_len = len(backend.get_chain())\n",
    "    samples = backend.get_chain(discard=burnin, flat=True, thin=thin)\n",
    "    # log_prob_samples = backend.get_log_prob(discard=burnin, flat=True, thin=thin)\n",
    "    \n",
    "    # log_prior_samples = backend.get_blobs(discard=burnin, flat=True, thin=thin)\n",
    "    # print(backend.get_blobs())\n",
    "    \n",
    "    #print(np.min(samples, axis=0), np.max(samples, axis=0))\n",
    "    #print(f\"Accepted steps: {backend.accepted}\")\n",
    "    print(f\"Autocorrelation time: {tau}\")\n",
    "    print(f\"Chain length: {chain_len}; Chain length / 50: {chain_len / 50:.2f}\")\n",
    "    print(\"Burn-in: {0}\".format(burnin))\n",
    "    print(\"Thin: {0}\".format(thin))\n",
    "    print(\"Flat chain shape: {0}; {1:.1f} autocorrelation times.\".format(samples.shape, samples.shape[0] / np.max(tau)))\n",
    "    # print(\"flat log prob shape: {0}\".format(log_prob_samples.shape))\n",
    "    # print(\"flat log prior shape: {0}\".format(log_prior_samples.shape))\n",
    "    if show_grid_fit:\n",
    "        truths = [config['priors']['bias_QSO'],\n",
    "                  config['priors']['beta_QSO'] if config['priors']['beta_QSO'] else config['priors']['bias_QSO']**-1,\n",
    "                  config['priors']['par_sigma_smooth'],\n",
    "                  config['priors']['drp_QSO'],\n",
    "                  config['priors']['bias_hcd'],\n",
    "                  config['priors']['beta_hcd']]\n",
    "    else:\n",
    "        truths = None\n",
    "    \n",
    "    corner.corner(samples, labels=[r'$b_{gal}$', \n",
    "                                   r'$\\beta_{gal}$', \n",
    "                                   r'$\\sigma_z$', r'$\\delta_z$', r'$b_{DLA}$', r'$\\beta_{DLA}$'], show_titles=True, \n",
    "                  truths=truths, truth_color='red',\n",
    "                  **kwargs)\n",
    "    plt.savefig(os.path.join(constants.FIG_DIR_BASE, 'mcmc', f'corner_{survey_name}.pdf'))\n",
    "    plt.savefig(os.path.join(constants.FIG_DIR_BASE, 'mcmc', f'corner_{survey_name}.png'))"
   ]
  },
  {
   "cell_type": "code",
   "execution_count": null,
   "id": "bad91459-4734-4657-b2d0-fdc9355cda12",
   "metadata": {},
   "outputs": [],
   "source": [
    "corner_plot('vuds')"
   ]
  },
  {
   "cell_type": "code",
   "execution_count": null,
   "id": "db5697cb-acd3-4578-92f7-ca1eb613fa99",
   "metadata": {},
   "outputs": [],
   "source": [
    "corner_plot('zDeep')"
   ]
  },
  {
   "cell_type": "code",
   "execution_count": null,
   "id": "01bc623f-acf6-4a09-af27-8627d5a1f0e7",
   "metadata": {},
   "outputs": [],
   "source": [
    "corner_plot('mosdef')"
   ]
  },
  {
   "cell_type": "code",
   "execution_count": null,
   "id": "ca0e4d13-f507-491c-bcfb-9eed2d5c9a8c",
   "metadata": {},
   "outputs": [],
   "source": [
    "corner_plot('clamato')"
   ]
  },
  {
   "cell_type": "code",
   "execution_count": null,
   "id": "7bc95158-7928-44f2-ab5b-aeda79984ccb",
   "metadata": {},
   "outputs": [],
   "source": [
    "corner_plot('3dhst')"
   ]
  },
  {
   "cell_type": "code",
   "execution_count": null,
   "id": "63b62239-716e-4ad8-90dc-3fe4eb482b3e",
   "metadata": {},
   "outputs": [],
   "source": []
  }
 ],
 "metadata": {
  "kernelspec": {
   "display_name": "clamato-xcorr",
   "language": "python",
   "name": "clamato-xcorr"
  },
  "language_info": {
   "codemirror_mode": {
    "name": "ipython",
    "version": 3
   },
   "file_extension": ".py",
   "mimetype": "text/x-python",
   "name": "python",
   "nbconvert_exporter": "python",
   "pygments_lexer": "ipython3",
   "version": "3.6.13"
  }
 },
 "nbformat": 4,
 "nbformat_minor": 5
}
