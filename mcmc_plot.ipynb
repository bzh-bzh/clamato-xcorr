{
 "cells": [
  {
   "cell_type": "code",
   "execution_count": null,
   "id": "43ddb492-df5d-4aa4-a12d-dfe243496431",
   "metadata": {},
   "outputs": [],
   "source": [
    "import os\n",
    "import glob\n",
    "import collections\n",
    "from pathlib import Path\n",
    "\n",
    "from astropy.io import ascii\n",
    "from vega import VegaInterface\n",
    "import emcee\n",
    "import corner\n",
    "import yaml\n",
    "%pylab inline\n",
    "\n",
    "import constants"
   ]
  },
  {
   "cell_type": "code",
   "execution_count": null,
   "id": "6ba480f6-a358-40b5-8b59-a70d1323a821",
   "metadata": {},
   "outputs": [],
   "source": [
    "LABEL_MAPPING = {\n",
    "    'bias_QSO': r'$b_{gal}$', \n",
    "    'beta_QSO': r'$\\beta_{gal}$', \n",
    "    'par_sigma_smooth': r'$\\sigma_z$',\n",
    "    'drp_QSO': r'$\\delta_z$',\n",
    "    'bias_hcd': r'$b_{DLA}$',\n",
    "    'beta_hcd': r'$\\beta_{DLA}$'\n",
    "}"
   ]
  },
  {
   "cell_type": "code",
   "execution_count": null,
   "id": "d3949e54-4513-44ef-a06c-61d154b9e0be",
   "metadata": {},
   "outputs": [],
   "source": [
    "def plot_model_w_data(survey_name, param_dict,\n",
    "                      SigMin = 0., SigMax = 30.,\n",
    "                      PiMin = -30., PiMax = 30.):\n",
    "\n",
    "    PiBins0 = ascii.read(Path(constants.XCORR_DIR_BASE) / 'bins23_pi_0-30hMpc.txt')\n",
    "    SigBins0 = ascii.read(Path(constants.XCORR_DIR_BASE) / 'bins10_sigma_0-30hMpc.txt')\n",
    "    cosmo = constants.COSMOLOGY\n",
    "    \n",
    "    XCorr_obs = np.load(Path(constants.XCORR_DIR_BASE) / 'obs' / f'xcorr_{survey_name}_globalf_{constants.DATA_VERSION}.npy')\n",
    "\n",
    "    PiEdges = PiBins0['pi_edges'].data\n",
    "    SigEdges = SigBins0['sigma_edges'].data\n",
    "\n",
    "    SigEdgesVec, PiEdgesVec = np.meshgrid(SigEdges, PiEdges)\n",
    "\n",
    "    SigEdgesPlot = SigEdgesVec / (np.ones(np.shape(SigEdgesVec))*[cosmo.h])\n",
    "    PiEdgesPlot = PiEdgesVec / (np.ones(np.shape(PiEdgesVec))*[cosmo.h])\n",
    "\n",
    "    vega = VegaInterface(Path(constants.MCMC_DIR_BASE) / survey_name / f'main_{survey_name}.ini')\n",
    "    for k, v in param_dict.items():\n",
    "        vega.params[k] = v\n",
    "    if 'beta_QSO' not in param_dict:\n",
    "        vega.params['beta_QSO'] = vega.params['growth_rate'] / vega.params['bias_QSO']\n",
    "    XModel = vega.compute_model()['qsoxlya'].reshape(*XCorr_obs.shape)\n",
    "    XModelPlot = XModel.T\n",
    "        \n",
    "    # Verify that the model is now in the same shape as the observed (which should be in the \n",
    "    # 'original' shape)\n",
    "    XCorrPlot = np.transpose(XCorr_obs)\n",
    "    if not np.array_equal(np.shape(XModelPlot),np.shape(XCorrPlot)):\n",
    "        if np.array_equal(np.shape(np.transpose(XCorrPlot)),np.shape(XModelPlot)):\n",
    "            XCorrPlot = np.transpose(XCorrPlot)\n",
    "        else:\n",
    "            print('Input XCorr array not compatible with model array!')\n",
    "    \n",
    "    fig, (ax1, ax2) = plt.subplots(1,2,figsize=(5,5))\n",
    "                            \n",
    "    ax1.pcolormesh(SigEdgesPlot, PiEdgesPlot, XCorrPlot,cmap='jet_r',vmin=-0.2, vmax=0.1 )\n",
    "    ax1.set_aspect('equal')\n",
    "    ax1.set_xlim(0., SigMax)\n",
    "    ax1.set_ylim(PiMin, PiMax)\n",
    "    ax1.set_xlabel(r'$\\sigma\\; (\\mathrm{cMpc})$')\n",
    "    ax1.set_ylabel(r'$\\pi\\; (\\mathrm{cMpc})$')\n",
    "    ax1.set_title(survey_name,fontsize=10)\n",
    "    \n",
    "    ax2.pcolormesh(SigEdgesPlot, PiEdgesPlot, XModelPlot,cmap='jet_r',vmin=-0.2, vmax=0.1 )\n",
    "    ax2.set_aspect('equal')\n",
    "    ax2.set_xlim(SigMin, SigMax)\n",
    "    ax2.set_ylim(PiMin, PiMax)\n",
    "    ax2.set_xlabel(r'$\\sigma\\; (\\mathrm{cMpc})$')\n",
    "    ax2.set_title(f'chi-sq = {vega.chi2()}',fontsize=10)"
   ]
  },
  {
   "cell_type": "code",
   "execution_count": null,
   "id": "18c292e6-22d2-476d-a540-ecf5742ba7dc",
   "metadata": {},
   "outputs": [],
   "source": [
    "def corner_plot(survey_name, show_grid_fit=False, **kwargs):\n",
    "    backend = emcee.backends.HDFBackend(os.path.join(constants.MCMC_DIR_BASE, survey_name, f'chain_{survey_name}.hdf5'), read_only=True)\n",
    "    config = None\n",
    "    for p in glob.glob('mcmc_cfg/*.yaml'):\n",
    "        if p.split('/')[-1].casefold() == f'{survey_name.casefold()}.yaml':\n",
    "            with open(p, 'r') as f:\n",
    "                config = yaml.safe_load(f)\n",
    "    if not config:\n",
    "        raise RuntimeError\n",
    "    if 'beta_QSO' in config['initial'] and config['initial']['beta_QSO'] is None:\n",
    "        del config['initial']['beta_QSO']\n",
    "    tau = backend.get_autocorr_time(quiet=True)\n",
    "    burnin = int(2 * np.max(tau))\n",
    "    thin = int(0.5 * np.min(tau))\n",
    "    # thin = int(np.max(tau))\n",
    "    chain_len = len(backend.get_chain())\n",
    "    samples = backend.get_chain(discard=burnin, flat=True, thin=thin)\n",
    "    # log_prob_samples = backend.get_log_prob(discard=burnin, flat=True, thin=thin)\n",
    "    \n",
    "    # log_prior_samples = backend.get_blobs(discard=burnin, flat=True, thin=thin)\n",
    "    # print(backend.get_blobs())\n",
    "    \n",
    "    #print(np.min(samples, axis=0), np.max(samples, axis=0))\n",
    "    #print(f\"Accepted steps: {backend.accepted}\")\n",
    "    print(f\"Autocorrelation time: {tau}\")\n",
    "    print(f\"Chain length: {chain_len}; Chain length / 50: {chain_len / 50:.2f}\")\n",
    "    print(\"Burn-in: {0}\".format(burnin))\n",
    "    print(\"Thin: {0}\".format(thin))\n",
    "    print(\"Flat chain shape: {0}; {1:.1f} autocorrelation times.\".format(samples.shape, samples.shape[0] / np.max(tau)))\n",
    "    # print(\"flat log prob shape: {0}\".format(log_prob_samples.shape))\n",
    "    # print(\"flat log prior shape: {0}\".format(log_prior_samples.shape))\n",
    "    if show_grid_fit:\n",
    "        truths = config['initial'].values()\n",
    "    else:\n",
    "        truths = None\n",
    "    \n",
    "    corner.corner(samples, labels=[LABEL_MAPPING[k] for k in config['initial']], show_titles=True, \n",
    "                  truths=truths, truth_color='red',\n",
    "                  **kwargs)\n",
    "    plt.savefig(os.path.join(constants.FIG_DIR_BASE, 'mcmc', f'corner_{survey_name}.pdf'))\n",
    "    plt.savefig(os.path.join(constants.FIG_DIR_BASE, 'mcmc', f'corner_{survey_name}.png'))\n",
    "    plt.show()\n",
    "    median_params = {}\n",
    "    for i, k in enumerate(config['initial']):\n",
    "        median_params[k] = np.median(samples[:, i])\n",
    "    for k, p in config['fixed'].items():\n",
    "        median_params[k] = p\n",
    "    plot_model_w_data(survey_name, median_params)\n",
    "    return samples"
   ]
  },
  {
   "cell_type": "code",
   "execution_count": null,
   "id": "bad91459-4734-4657-b2d0-fdc9355cda12",
   "metadata": {},
   "outputs": [],
   "source": [
    "corner_plot('vuds');"
   ]
  },
  {
   "cell_type": "code",
   "execution_count": null,
   "id": "db5697cb-acd3-4578-92f7-ca1eb613fa99",
   "metadata": {},
   "outputs": [],
   "source": [
    "corner_plot('zDeep');"
   ]
  },
  {
   "cell_type": "code",
   "execution_count": null,
   "id": "01bc623f-acf6-4a09-af27-8627d5a1f0e7",
   "metadata": {},
   "outputs": [],
   "source": [
    "mosdef_samples = corner_plot('mosdef');\n",
    "# plt.show()\n",
    "# mosdef_params = collections.OrderedDict(\n",
    "#     bias_QSO=np.median(mosdef_samples[:, 0]),\n",
    "#     beta_QSO=0.970386193694752 / np.median(mosdef_samples[:, 0]),\n",
    "#     par_sigma_smooth=np.median(mosdef_samples[:, 1]),\n",
    "#     drp_QSO=np.median(mosdef_samples[:, 2]),\n",
    "#     bias_hcd=np.median(mosdef_samples[:, 3]),\n",
    "#     beta_hcd=np.median(mosdef_samples[:, 4])\n",
    "# )\n",
    "# plot_model_w_data('mosdef', mosdef_params)"
   ]
  },
  {
   "cell_type": "code",
   "execution_count": null,
   "id": "ca0e4d13-f507-491c-bcfb-9eed2d5c9a8c",
   "metadata": {},
   "outputs": [],
   "source": [
    "corner_plot('clamato');"
   ]
  },
  {
   "cell_type": "code",
   "execution_count": null,
   "id": "7bc95158-7928-44f2-ab5b-aeda79984ccb",
   "metadata": {},
   "outputs": [],
   "source": [
    "corner_plot('3dhst');\n",
    "# plt.show()\n",
    "# hst_params = collections.OrderedDict(\n",
    "#     bias_QSO=0.28,\n",
    "#     beta_QSO=0.28**-1,\n",
    "#     par_sigma_smooth=3,\n",
    "#     drp_QSO=4.22,\n",
    "#     bias_hcd=0,\n",
    "#     beta_hcd=0\n",
    "# )\n",
    "# plot_model_w_data('3dhst', hst_params)"
   ]
  },
  {
   "cell_type": "code",
   "execution_count": null,
   "id": "63b62239-716e-4ad8-90dc-3fe4eb482b3e",
   "metadata": {},
   "outputs": [],
   "source": [
    "corner_plot('all');"
   ]
  },
  {
   "cell_type": "code",
   "execution_count": null,
   "id": "7e47000e-3981-4f3c-9152-317a2f90ebb8",
   "metadata": {},
   "outputs": [],
   "source": []
  }
 ],
 "metadata": {
  "kernelspec": {
   "display_name": "vega",
   "language": "python",
   "name": "vega"
  },
  "language_info": {
   "codemirror_mode": {
    "name": "ipython",
    "version": 3
   },
   "file_extension": ".py",
   "mimetype": "text/x-python",
   "name": "python",
   "nbconvert_exporter": "python",
   "pygments_lexer": "ipython3",
   "version": "3.7.12"
  }
 },
 "nbformat": 4,
 "nbformat_minor": 5
}
