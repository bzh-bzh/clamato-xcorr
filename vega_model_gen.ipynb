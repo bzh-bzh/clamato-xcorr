{
 "cells": [
  {
   "cell_type": "code",
   "execution_count": null,
   "id": "c6c6290a-23af-4116-98c3-91d9b8a6bc78",
   "metadata": {},
   "outputs": [],
   "source": [
    "import numpy as np\n",
    "import matplotlib.pyplot as plt\n",
    "import matplotlib.colors\n",
    "import scipy.optimize\n",
    "import scipy.ndimage\n",
    "from vega import VegaInterface\n",
    "from astropy.io import ascii"
   ]
  },
  {
   "cell_type": "code",
   "execution_count": null,
   "id": "3e1bc15c-51af-4f24-94ee-3bf2728179e8",
   "metadata": {},
   "outputs": [],
   "source": [
    "#vega = VegaInterface('vega_cfg/old-grid-repro.ini')\n",
    "vega = VegaInterface('/global/homes/b/bzh/clamato-xcorr/vega_cfg/main_example.ini')\n",
    "# assert np.all(vega.data['qsoxlya'].mask)"
   ]
  },
  {
   "cell_type": "code",
   "execution_count": null,
   "id": "6d74dd66-1384-4e68-86c5-e42bfa3ac064",
   "metadata": {},
   "outputs": [],
   "source": [
    "vega.data['qsoxlya'].mask.shape"
   ]
  },
  {
   "cell_type": "code",
   "execution_count": null,
   "id": "856dc49c-bced-4a71-be7f-ab7ba5a97d5c",
   "metadata": {},
   "outputs": [],
   "source": [
    "vega.params['bias_QSO'] = 5\n",
    "vega.params['beta_QSO'] = vega.params['growth_rate'] / vega.params['bias_QSO']\n",
    "vega.params['drp_QSO'] = 0\n",
    "vega.params['par_sigma_smooth'] = 0"
   ]
  },
  {
   "cell_type": "code",
   "execution_count": null,
   "id": "7204b65c-1250-4087-9713-3198bb0939d0",
   "metadata": {},
   "outputs": [],
   "source": [
    "vega.priors"
   ]
  },
  {
   "cell_type": "code",
   "execution_count": null,
   "id": "5e38dac2-a968-42aa-bc0c-57167380cae5",
   "metadata": {},
   "outputs": [],
   "source": [
    "print(vega.fiducial['z_eff'])"
   ]
  },
  {
   "cell_type": "code",
   "execution_count": null,
   "id": "ad8b4833-c4e5-4260-a2f2-ff99b98d33b6",
   "metadata": {},
   "outputs": [],
   "source": [
    "# For example:\n",
    "rp_vals = np.arange(0.1, 40, 0.2)\n",
    "# print(rp_vals[:10], rp_vals[-10:])\n",
    "rt_vals = np.arange(0.1, 30, 0.2)\n",
    "# print(rt_vals[:10], rt_vals[-10:])\n",
    "\n",
    "xcorr_shape = (len(rt_vals), len(rp_vals))\n",
    "print(xcorr_shape)\n",
    "\n",
    "# Why is this reversed in the example 'simple model' notebook?\n",
    "rt_grid, rp_grid = np.meshgrid(rt_vals, rp_vals)\n",
    "\n",
    "# Overwrite rp_rt grid:\n",
    "vega.corr_items['qsoxlya'].rp_rt_grid = [rp_grid.flatten(), rt_grid.flatten()]\n",
    "vega.corr_items['qsoxlya'].z_grid = 2.3\n",
    "vega.corr_items['qsoxlya'].has_metals = False"
   ]
  },
  {
   "cell_type": "code",
   "execution_count": null,
   "id": "9afdc1ca-88e6-4798-b364-c632cc0ebe0b",
   "metadata": {},
   "outputs": [],
   "source": [
    "print(vega.corr_items['qsoxlya'].rp_rt_grid)"
   ]
  },
  {
   "cell_type": "code",
   "execution_count": null,
   "id": "87ac7f73-4442-43a5-a047-6d3cc6b17a1e",
   "metadata": {},
   "outputs": [],
   "source": [
    "%time\n",
    "vega.fiducial['save-components'] = True\n",
    "model = vega.compute_model()"
   ]
  },
  {
   "cell_type": "code",
   "execution_count": null,
   "id": "3efea126-e257-4404-bfb4-11703e7c9e7d",
   "metadata": {},
   "outputs": [],
   "source": [
    "model_xcorr = vega.models['qsoxlya'].xi_distorted['smooth']['core'].reshape(*reversed(xcorr_shape))\n",
    "#model_xcorr += vega.params['bao_amp'] * vega.models['qsoxlya'].xi_distorted['peak']['core'].reshape(*xcorr_shape)"
   ]
  },
  {
   "cell_type": "code",
   "execution_count": null,
   "id": "4f1d2775-6527-4397-9b7b-61e7c73271e3",
   "metadata": {},
   "outputs": [],
   "source": [
    "model_xcorr.shape"
   ]
  },
  {
   "cell_type": "code",
   "execution_count": null,
   "id": "b1e9c18d-def6-450e-bf97-86c6ce9d5c06",
   "metadata": {},
   "outputs": [],
   "source": [
    "plt.pcolormesh(rt_vals, rp_vals, model_xcorr, cmap='jet_r', vmin=-0.04, vmax=0)\n",
    "plt.xlabel('Transverse [Mpc/h]')\n",
    "plt.ylabel('Parallel [Mpc/h]')\n",
    "plt.colorbar()"
   ]
  },
  {
   "cell_type": "code",
   "execution_count": null,
   "id": "df2dcef0-98e3-40be-824b-0460e82b1065",
   "metadata": {},
   "outputs": [],
   "source": [
    "model_sum_reflected = np.sum(model_xcorr, axis=1)\n",
    "model_sum_reflected = np.concatenate([model_sum_reflected[::-1], model_sum_reflected])\n",
    "parallel_reflected = np.concatenate([-rp_vals[::-1], rp_vals])\n",
    "plt.plot(parallel_reflected, model_sum_reflected * -1)\n",
    "# print(np.std(model_sum_reflected) * 0.2)"
   ]
  },
  {
   "cell_type": "code",
   "execution_count": null,
   "id": "b8c2e9d8-bae1-4591-b04e-d252f5e72733",
   "metadata": {},
   "outputs": [],
   "source": [
    "def gauss(x, *p):\n",
    "    A, mu, sigma, C = p\n",
    "    # sigma = 40\n",
    "    dist = np.minimum(np.abs(x - (mu + sigma)), np.abs(x - (mu - sigma)))\n",
    "    dist[x > mu + sigma] = 0\n",
    "    dist[x < mu - sigma] = 0\n",
    "    #return A * dist**3 + C\n",
    "    return A * scipy.ndimage.gaussian_filter(dist**3, sigma=vega.params['par_sigma_smooth'] / 0.2) + C\n",
    "    #return A*np.exp(-(x-mu)**2/(2.*sigma**2)) + C\n",
    "\n",
    "fit_coeff, _ = scipy.optimize.curve_fit(gauss, parallel_reflected, model_sum_reflected, p0=[(np.min(model_sum_reflected) + 0.25) / 40**3, 0, 40, -0.25], maxfev=5000)\n",
    "print(fit_coeff)\n",
    "plt.plot(parallel_reflected, model_sum_reflected, color='red', label='Vega model')\n",
    "plt.plot(parallel_reflected, gauss(parallel_reflected, *fit_coeff), color='black', label='Fit function')\n",
    "plt.xlabel(r'$\\pi$ [Mpc/h]')\n",
    "plt.ylabel('Summed cross-corr')\n",
    "plt.title(f'bias = {vega.params[\"bias_QSO\"]}, redshift disp = {vega.params[\"par_sigma_smooth\"] / 2}')\n",
    "plt.legend()"
   ]
  },
  {
   "cell_type": "markdown",
   "id": "f9f19d57-8dc8-4171-8a0c-59418f3bc16c",
   "metadata": {},
   "source": [
    "# Old model grid"
   ]
  },
  {
   "cell_type": "code",
   "execution_count": null,
   "id": "939c3105-18cd-4dc9-8e7d-e970fdf57815",
   "metadata": {},
   "outputs": [],
   "source": [
    "grid_model_flat = ascii.read('/global/homes/b/bzh/clamato-xcorr/data/model/model_grid_v1/linear_cross_b0.8_s0.501187.txt', \n",
    "                             format='no_header', names=['rt', 'rp', 'xi_lin', 'xi_conv'])\n",
    "grid_model = np.zeros_like(model_xcorr)\n",
    "grid_model[:] = grid_model_flat['xi_conv'].reshape(*model_xcorr.shape, order='F')"
   ]
  },
  {
   "cell_type": "code",
   "execution_count": null,
   "id": "72094300-16ed-40c7-8543-a443c46480c6",
   "metadata": {},
   "outputs": [],
   "source": [
    "plt.pcolormesh(rt_vals, rp_vals, grid_model, cmap='jet_r', vmin=-0.04, vmax=0)\n",
    "plt.colorbar()"
   ]
  },
  {
   "cell_type": "markdown",
   "id": "5c463387-a5a3-4e23-a315-eaba2d2074bd",
   "metadata": {},
   "source": [
    "# Comparison & Residuals"
   ]
  },
  {
   "cell_type": "code",
   "execution_count": null,
   "id": "bd9d7ab5-6980-483b-92af-6c2dfca27f76",
   "metadata": {},
   "outputs": [],
   "source": [
    "fig, axes = plt.subplots(1, 2, figsize=(10, 4))\n",
    "kwargs = {'cmap': 'jet_r', 'vmin': -0.15, 'vmax': 0}\n",
    "axes[0].pcolormesh(rt_vals, rp_vals, model_xcorr, **kwargs)\n",
    "axes[1].pcolormesh(rt_vals, rp_vals, grid_model, **kwargs)\n",
    "#fig.colorbar(None, cmap=kwargs['cmap'], norm=matplotlib.colors.Normalize(vmin=kwargs['vmin'], vmax=kwargs['vmax']))"
   ]
  },
  {
   "cell_type": "code",
   "execution_count": null,
   "id": "fdccb5c7-fcf8-4f04-a216-318c684f0480",
   "metadata": {},
   "outputs": [],
   "source": [
    "plt.pcolormesh(rt_vals, rp_vals, np.abs((model_xcorr - grid_model) /  grid_model) * 100, vmax=200, cmap='plasma')\n",
    "plt.colorbar(label='% difference')"
   ]
  },
  {
   "cell_type": "code",
   "execution_count": null,
   "id": "a50a86f5-f3e0-4d52-8878-a5e2cb29ef5c",
   "metadata": {},
   "outputs": [],
   "source": [
    "plt.pcolormesh(rt_vals, rp_vals, np.abs((model_xcorr - grid_model) /  grid_model) * 100, vmax=100, cmap='plasma')\n",
    "plt.colorbar(label='% difference')\n",
    "plt.xlim(0, 5)\n",
    "plt.ylim(0, 5)"
   ]
  },
  {
   "cell_type": "code",
   "execution_count": null,
   "id": "507df3e9-fb98-4ec8-9b11-a935a0d9334f",
   "metadata": {},
   "outputs": [],
   "source": []
  }
 ],
 "metadata": {
  "kernelspec": {
   "display_name": "vega",
   "language": "python",
   "name": "vega"
  },
  "language_info": {
   "codemirror_mode": {
    "name": "ipython",
    "version": 3
   },
   "file_extension": ".py",
   "mimetype": "text/x-python",
   "name": "python",
   "nbconvert_exporter": "python",
   "pygments_lexer": "ipython3",
   "version": "3.7.12"
  }
 },
 "nbformat": 4,
 "nbformat_minor": 5
}
