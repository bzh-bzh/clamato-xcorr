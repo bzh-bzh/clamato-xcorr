{
 "cells": [
  {
   "cell_type": "code",
   "execution_count": null,
   "id": "e43b9484-c6aa-45cd-82ea-928a3376d724",
   "metadata": {},
   "outputs": [],
   "source": [
    "import os\n",
    "\n",
    "import nbodykit\n",
    "from nbodykit.lab import *\n",
    "import numpy as np\n",
    "import astropy.cosmology\n",
    "import pandas as pd\n",
    "import scipy.ndimage\n",
    "%pylab inline\n",
    "\n",
    "import constants"
   ]
  },
  {
   "cell_type": "code",
   "execution_count": null,
   "id": "e1c2eae4-5d3e-455d-91dc-6f48fb159907",
   "metadata": {},
   "outputs": [],
   "source": [
    "EVAL_Z = 2.3\n",
    "BIAS_ETA_LYA = -0.2014\n",
    "BETA_LYA = 1.669\n",
    "GROWTH_RATE = 0.970386193694752\n",
    "BIAS_LYA = BIAS_ETA_LYA * GROWTH_RATE / BETA_LYA\n",
    "BETA_GAL_FUNC = lambda bias: GROWTH_RATE / bias\n",
    "\n",
    "# From https://www.cosmosim.org/cms/simulations/bolshoip/\n",
    "COSMO = astropy.cosmology.Planck13\n",
    "\n",
    "LINEAR_MATTER_PS = nbodykit.cosmology.power.linear.LinearPower(COSMO, EVAL_Z)\n",
    "\n",
    "SIM_DENS_PATH = '/global/homes/b/bzh/projectdir/bzh/BolshoiP/z2.5/BolshoiP_rsd_cic_n512_0094.npy'\n",
    "SIM_LEN_MPCH = 250\n",
    "\n",
    "SIM_DENS = np.load(SIM_DENS_PATH)\n",
    "SIM_FLUX = np.exp(-1 * 0.226 * SIM_DENS**1.5)\n",
    "SIM_FLUX = scipy.ndimage.gaussian_filter(SIM_FLUX, sigma=1 * SIM_FLUX.shape[0] / SIM_LEN_MPCH)\n",
    "SIM_FLUX_MESH = nbodykit.source.mesh.ArrayMesh(SIM_FLUX, BoxSize=(SIM_LEN_MPCH, SIM_LEN_MPCH, SIM_LEN_MPCH))\n",
    "\n",
    "SURVEY_NAMES = ['3dhst', 'clamato', 'mosdef', 'vuds', 'zDeep']\n",
    "ALL_HALOS_DIR_BASE = os.path.join(constants.XCORR_DIR_BASE, 'mock', 'selected_halos')"
   ]
  },
  {
   "cell_type": "code",
   "execution_count": null,
   "id": "d3e319b3-b299-4981-921a-a6a9a5736ff0",
   "metadata": {},
   "outputs": [],
   "source": [
    "# Source of this is Font-Ribera 2012 DLA paper, right above equation 1.2.\n",
    "def calculate_bias(halo_cat_source):\n",
    "    # def bias(xcorr_k_mu, k, mu):\n",
    "    #     return (xcorr_k_mu / (1 + BETA_LYA * mu**2) / BIAS_LYA / LINEAR_MATTER_PS(k)) - (GROWTH_RATE * mu**2)\n",
    "    gal_ps = nbodykit.algorithms.fftpower.FFTPower(halo_cat_source, '1d',\n",
    "                                                  Nmesh=512, BoxSize=(SIM_LEN_MPCH, SIM_LEN_MPCH, SIM_LEN_MPCH),\n",
    "                                                  # Nmu=50,\n",
    "                                                  # kmin=(2 * np.pi / 23),\n",
    "                                                  kmax=0.2,\n",
    "                                                  dk=0.01\n",
    "                                                 ).run()[0]\n",
    "    # print(xcorr['mu'][:20])\n",
    "    gal_bias = gal_ps['power'] / LINEAR_MATTER_PS(gal_ps['k'])\n",
    "\n",
    "    # plt.plot(gal_ps['k'], gal_bias)\n",
    "    # plt.title(f'{np.nanmean(gal_bias)} +- {np.nanstd(gal_bias)}')\n",
    "    # plt.show()\n",
    "    return np.nanmedian(gal_bias)**0.5"
   ]
  },
  {
   "cell_type": "code",
   "execution_count": null,
   "id": "2c0bcc5c-8836-46d9-b6f8-09556c0287d6",
   "metadata": {},
   "outputs": [],
   "source": [
    "def df_to_catalogsource(df):\n",
    "    # Since the data gets repeated in the z-direction, cut out >= SIM_LEN_MPCH in the z-coord.\n",
    "    df = df[df.z < SIM_LEN_MPCH]\n",
    "    pos = np.array([df.x, df.y, df.z]).T\n",
    "    return nbodykit.source.catalog.ArrayCatalog(data={'Position': pos, 'Weight': df.smass},\n",
    "                                                BoxSize=(SIM_LEN_MPCH, SIM_LEN_MPCH, SIM_LEN_MPCH))\n",
    "\n",
    "halo_cats = [df_to_catalogsource(pd.read_csv(os.path.join(ALL_HALOS_DIR_BASE, f'all_halos_{s}.csv'))) for s in SURVEY_NAMES]"
   ]
  },
  {
   "cell_type": "code",
   "execution_count": null,
   "id": "9a6c8b29-7122-4e0b-b36a-38db2c18d3df",
   "metadata": {},
   "outputs": [],
   "source": [
    "plt.imshow(halo_cats[0].to_mesh(Nmesh=128).preview()[:, :, 64])"
   ]
  },
  {
   "cell_type": "code",
   "execution_count": null,
   "id": "f82a30f5-3431-4241-a8bb-b4678fbe87ce",
   "metadata": {},
   "outputs": [],
   "source": [
    "# for t, c in zip(SURVEY_NAMES, halo_cats):\n",
    "#     plt.hist(c['smass'], bins=20, range=(8, 12))\n",
    "#     plt.title(t)\n",
    "#     plt.show()"
   ]
  },
  {
   "cell_type": "code",
   "execution_count": null,
   "id": "978c0458-1547-4626-842d-74e036f6c634",
   "metadata": {},
   "outputs": [],
   "source": [
    "survey_biases = [calculate_bias(c) for c in halo_cats]\n",
    "print('Warning: this is weighted by stellar mass, not halo mass (and so is incorrect!)')\n",
    "for t, b in zip(SURVEY_NAMES, survey_biases):\n",
    "    # plt.hist(np.real_if_close(b), bins=100)\n",
    "    # plt.title(f'{t}: mean = {np.real(np.mean(b)):.3f}, median = {np.real(np.median(b)):.3f}')\n",
    "    # plt.show()\n",
    "    print(f'{t}: {b}')"
   ]
  },
  {
   "cell_type": "markdown",
   "id": "fd596ed3-54f3-4adb-a50f-1fc10582a6fb",
   "metadata": {},
   "source": [
    "# Halo mass-Analytical Bias Curve"
   ]
  },
  {
   "cell_type": "code",
   "execution_count": null,
   "id": "9364a0fe-f5c9-4de8-9f25-0ef8c12e692d",
   "metadata": {},
   "outputs": [],
   "source": [
    "def read_fofp_file(path):\n",
    "    \"\"\"\n",
    "    Read FoF properties file from the given path.\n",
    "    Just returns a tuple of masses and positions for now, but can be modified\n",
    "    easily.\n",
    "    Note that positions are in box size units.\n",
    "\n",
    "    \"\"\"\n",
    "    halo_cat = pd.read_csv(path, header=0, skiprows=30, delim_whitespace=True)\n",
    "    halo_cat.rename(columns={'#ID': 'ID'}, inplace=True)\n",
    "    print(halo_cat.columns)\n",
    "    print(\"{} halos read\".format(len(halo_cat)))\n",
    "\n",
    "    with open(path, 'r') as f:\n",
    "        for i, l in enumerate(f.readlines()):\n",
    "            match = re.search(r'#h = ([0-9].[0-9]*)', l)\n",
    "            if match is not None:\n",
    "                littleh = float(match.group(1))\n",
    "                print(f'Found little h to be {littleh}')\n",
    "                break\n",
    "            elif i > 200:\n",
    "                raise RuntimeError\n",
    "                \n",
    "    # The mass is initially in Msun (no h). We DO NOT convert to Msun/h by dividing by the h provided in the file.\n",
    "    # Halo virial mass\n",
    "    halo_masses = halo_cat.M.to_numpy() #* littleh\n",
    "    # Stellar mass (truth, including intrinsic spread?)\n",
    "    stellar_masses_true = halo_cat.SM.to_numpy() #* littleh\n",
    "    # Stellar mass (including observational + systematic errors)\n",
    "    stellar_masses_obs = halo_cat.obs_SM.to_numpy() #* littleh\n",
    "    \n",
    "    # sigma = np.fromfile(fof_file, dtype=\"f4\", count=num_groups)\n",
    "    # v_circ = np.fromfile(fof_file, dtype=\"f4\", count=num_groups)\n",
    "    # min_id = np.fromfile(fof_file, dtype=\"f4\", count=num_groups)\n",
    "    # v_pot_e = np.fromfile(fof_file, dtype=\"f4\", count=num_groups)\n",
    "    \n",
    "    # Apply RSD.\n",
    "    z_rsd_offset = halo_cat.VZ * ((1 + EVAL_Z) / COSMO.H(EVAL_Z) * littleh).value\n",
    "    plt.hist(z_rsd_offset, bins=100)\n",
    "    halo_cat.Z += z_rsd_offset\n",
    "    \n",
    "    # In Mpc/h\n",
    "    positions = np.array([halo_cat.X, halo_cat.Y, halo_cat.Z]).T\n",
    "\n",
    "    return (halo_masses, stellar_masses_true, stellar_masses_obs, positions)"
   ]
  },
  {
   "cell_type": "code",
   "execution_count": null,
   "id": "11568055-bd10-4f8c-ba0f-11ae4270508c",
   "metadata": {},
   "outputs": [],
   "source": [
    "fofp_path = os.path.join(constants.SIM_DIR_BASE, 'sfr_catalog_0.288498.txt')\n",
    "masses, _, smass_obs, positions = read_fofp_file(fofp_path)"
   ]
  },
  {
   "cell_type": "code",
   "execution_count": null,
   "id": "f668cc05-9cbf-42b4-b45c-b6e4696f8331",
   "metadata": {},
   "outputs": [],
   "source": [
    "plt.hist(np.log10(masses), bins=20)\n",
    "plt.yscale('log')\n",
    "plt.xlabel(r'Halo mass [$M_\\odot$]')\n",
    "plt.ylabel('# halos')"
   ]
  },
  {
   "cell_type": "code",
   "execution_count": null,
   "id": "aeb6b0f8-f0d0-4218-aea1-8c4e318a08fa",
   "metadata": {
    "tags": []
   },
   "outputs": [],
   "source": [
    "curve_mass = masses\n",
    "\n",
    "def plot_mass_bias_curve(log_width, log_step=0.1):\n",
    "    curve_x = []\n",
    "    curve_y = []\n",
    "\n",
    "    for log_lb in np.arange(np.log10(np.percentile(curve_mass, 1)), 13.4, log_step):\n",
    "        log_ub = log_lb + log_width\n",
    "        if log_ub > np.log10(np.max(curve_mass)):\n",
    "            continue\n",
    "        mask = np.logical_and(curve_mass >= 10**log_lb, curve_mass < 10**log_ub)\n",
    "        masked_ac = nbodykit.source.catalog.ArrayCatalog(data={'Position': positions[mask], 'Weight': curve_mass[mask]},\n",
    "                                                         BoxSize=(SIM_LEN_MPCH, SIM_LEN_MPCH, SIM_LEN_MPCH))\n",
    "        curve_y.append(calculate_bias(masked_ac))\n",
    "        curve_x.append(np.log10(np.mean(curve_mass[mask])))\n",
    "    return curve_x, curve_y"
   ]
  },
  {
   "cell_type": "code",
   "execution_count": null,
   "id": "c97d4757-2a0b-4d16-8eeb-fbca4722f6e4",
   "metadata": {},
   "outputs": [],
   "source": [
    "plt.plot(*plot_mass_bias_curve(1), color='red', label='1 dex')\n",
    "plt.plot(*plot_mass_bias_curve(0.5), color='green', label='0.5 dex')\n",
    "plt.plot(*plot_mass_bias_curve(0.25), color='blue', label='0.25 dex')\n",
    "plt.xlabel(r'Average DM halo mass [$log_{10}(M_\\odot)$]')\n",
    "plt.ylabel(r'Analytical galaxy bias $b_g$')\n",
    "plt.legend(title='Window size')\n",
    "plt.savefig(os.path.join(constants.FIG_DIR_BASE, 'sim-mass-bias-curve.png'))"
   ]
  },
  {
   "cell_type": "code",
   "execution_count": null,
   "id": "da84f508-32a1-4fd9-b9fc-2a2871fd7689",
   "metadata": {},
   "outputs": [],
   "source": [
    "plt.hist(np.log10(masses))"
   ]
  },
  {
   "cell_type": "code",
   "execution_count": null,
   "id": "8e32b3b0-dbc0-4fb3-9d56-40fced433ae2",
   "metadata": {},
   "outputs": [],
   "source": []
  }
 ],
 "metadata": {
  "kernelspec": {
   "display_name": "tweb-gal-align",
   "language": "python",
   "name": "tweb-gal-align"
  },
  "language_info": {
   "codemirror_mode": {
    "name": "ipython",
    "version": 3
   },
   "file_extension": ".py",
   "mimetype": "text/x-python",
   "name": "python",
   "nbconvert_exporter": "python",
   "pygments_lexer": "ipython3",
   "version": "3.6.10"
  }
 },
 "nbformat": 4,
 "nbformat_minor": 5
}
