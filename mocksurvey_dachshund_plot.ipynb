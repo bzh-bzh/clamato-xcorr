{
 "cells": [
  {
   "cell_type": "code",
   "execution_count": null,
   "id": "6475846e-fec1-4bc4-abe0-e85137d80ed5",
   "metadata": {
    "tags": []
   },
   "outputs": [],
   "source": [
    "import glob\n",
    "\n",
    "import numpy as np\n",
    "import scipy.ndimage\n",
    "import scipy.stats\n",
    "%pylab inline"
   ]
  },
  {
   "cell_type": "code",
   "execution_count": null,
   "id": "f9f2df82-c3a2-4beb-9de1-8ff45c3806de",
   "metadata": {
    "tags": []
   },
   "outputs": [],
   "source": [
    "fluct_mean = []\n",
    "fluct_std = []\n",
    "\n",
    "\n",
    "for i, p in enumerate(glob.glob('/global/homes/b/bzh/clamato-xcorr/data/xcorr/mock/skewers/dachshund/map*.bin')):\n",
    "    fluct = np.fromfile(p, dtype=np.float64).reshape(68, 56, 1000)\n",
    "    fluct_mean.append(np.mean(fluct))\n",
    "    fluct_std.append(np.std(fluct))\n",
    "    if i % 10 == 0:\n",
    "        plt.figure(figsize=(10, 2))\n",
    "        plt.imshow(fluct[34, :, :])\n",
    "        plt.gca().set_aspect('equal')\n",
    "        plt.show()"
   ]
  },
  {
   "cell_type": "code",
   "execution_count": null,
   "id": "b27aa4c0-5cd3-44bc-9135-3bae615291ed",
   "metadata": {
    "tags": []
   },
   "outputs": [],
   "source": [
    "plt.hist(fluct_mean)"
   ]
  },
  {
   "cell_type": "code",
   "execution_count": null,
   "id": "17167721-7356-4a02-bebc-e5a08a85d05e",
   "metadata": {
    "tags": []
   },
   "outputs": [],
   "source": [
    "plt.hist(fluct_std)"
   ]
  },
  {
   "cell_type": "markdown",
   "id": "d729ddce-24ee-4cb1-bbbd-1d6728256f82",
   "metadata": {},
   "source": [
    "# Compare 3 absorption realizations for same footprint"
   ]
  },
  {
   "cell_type": "code",
   "execution_count": null,
   "id": "2c922c42-d1f8-43b3-97d5-c0e45b476d2c",
   "metadata": {
    "tags": []
   },
   "outputs": [],
   "source": [
    "pearsons = []\n",
    "for i in range(1, 64):\n",
    "    fluct_list = [np.fromfile(f'/global/homes/b/bzh/clamato-xcorr/data/xcorr/mock/skewers/dachshund/map_dachshund_mock_{i+j}.bin') for j in [0, 63, 126]]\n",
    "    pearsons += [scipy.stats.pearsonr(fluct_list[0], fluct_list[1])[0], scipy.stats.pearsonr(fluct_list[1], fluct_list[2])[0], scipy.stats.pearsonr(fluct_list[0], fluct_list[2])[0]]"
   ]
  },
  {
   "cell_type": "code",
   "execution_count": null,
   "id": "7c2c2073-d9f1-431b-ac34-fd6098d3f522",
   "metadata": {
    "tags": []
   },
   "outputs": [],
   "source": [
    "print(len(pearsons))\n",
    "plt.hist(pearsons);"
   ]
  },
  {
   "cell_type": "markdown",
   "id": "35ab608b-3683-41f0-979e-e3edc958aa52",
   "metadata": {},
   "source": [
    "# Check map 1 (corner) against true density"
   ]
  },
  {
   "cell_type": "code",
   "execution_count": null,
   "id": "21a011ae-d42c-41cb-854b-487d48d9e66d",
   "metadata": {
    "tags": []
   },
   "outputs": [],
   "source": [
    "fluct_corner = np.fromfile('/global/homes/b/bzh/clamato-xcorr/data/xcorr/mock/skewers/dachshund/map_dachshund_mock_1.bin').reshape(68, 56, 1000)\n",
    "# Use only the front half.\n",
    "fluct_corner = fluct_corner[:, :, :500]\n",
    "\n",
    "flux = (fluct_corner + 1) * 0.8\n",
    "# Trim flux above 1 to 1.\n",
    "flux[flux > 1] = 1\n",
    "tau = -np.log(flux)\n",
    "overdens = (tau / 0.226)**(1/1.5)\n",
    "\n",
    "# 1 + delta.\n",
    "plt.hist(overdens.flatten(), bins=100);\n",
    "print(np.nanmedian(overdens.flatten()))\n",
    "print(np.sum(np.isnan(overdens) / overdens.size))"
   ]
  },
  {
   "cell_type": "code",
   "execution_count": null,
   "id": "623e2166-8cf8-42de-af0b-080a56caee3f",
   "metadata": {
    "tags": []
   },
   "outputs": [],
   "source": [
    "true_dens = np.load('/global/homes/b/bzh/projectdir/bzh/tweb-gal-align/BolshoiP Data/z2.5/BolshoiP_rsd_cic_n512_0094.npy')\n",
    "true_npix = true_dens.shape[0]\n",
    "true_dens /= np.mean(true_dens)\n",
    "x_ub = int(np.around(34 * (true_npix / 250)))\n",
    "y_ub = int(np.around(28 * (true_npix / 250)))\n",
    "print(x_ub, y_ub)\n",
    "cut_true_dens = true_dens[:x_ub, :y_ub]\n",
    "del true_dens\n",
    "cut_true_dens = scipy.ndimage.gaussian_filter(cut_true_dens, 2.5 * (true_npix / 250))"
   ]
  },
  {
   "cell_type": "code",
   "execution_count": null,
   "id": "4286e86c-5ac7-4a57-b80e-cedf3de46a06",
   "metadata": {
    "tags": []
   },
   "outputs": [],
   "source": [
    "plt.hist(cut_true_dens.flatten(), bins=100, range=(0, 5));"
   ]
  },
  {
   "cell_type": "code",
   "execution_count": null,
   "id": "d9698ca4-50e9-4b3b-90b3-5281e733402c",
   "metadata": {
    "tags": []
   },
   "outputs": [],
   "source": [
    "zoomed_true_dens = scipy.ndimage.zoom(cut_true_dens, (68 / cut_true_dens.shape[0], 56 / cut_true_dens.shape[1], 500 / cut_true_dens.shape[2]))"
   ]
  },
  {
   "cell_type": "code",
   "execution_count": null,
   "id": "6d5701a3-5ee3-4768-970e-7640c61d37e2",
   "metadata": {
    "tags": []
   },
   "outputs": [],
   "source": [
    "nan_mask = ~np.isnan(overdens.flatten())\n",
    "print(scipy.stats.pearsonr(zoomed_true_dens.flatten()[nan_mask], overdens.flatten()[nan_mask]))"
   ]
  },
  {
   "cell_type": "code",
   "execution_count": null,
   "id": "a540d55a-1768-458e-a573-ed0fd5b689d5",
   "metadata": {
    "tags": []
   },
   "outputs": [],
   "source": [
    "plt.imshow(zoomed_true_dens[34, :, :], vmax=np.max(overdens))\n",
    "plt.show()\n",
    "plt.imshow(overdens[34, :, :])"
   ]
  },
  {
   "cell_type": "code",
   "execution_count": null,
   "id": "24b6f238-5499-4ca2-85c9-65515e62ca9f",
   "metadata": {
    "tags": []
   },
   "outputs": [],
   "source": [
    "pearsons_2 = []\n",
    "\n",
    "for i in range(1, 190):\n",
    "    fluct_corner = np.fromfile(f'/global/homes/b/bzh/clamato-xcorr/data/xcorr/mock/skewers/dachshund/map_dachshund_mock_{i}.bin').reshape(68, 56, 1000)\n",
    "    # Use only the front half.\n",
    "    fluct_corner = fluct_corner[:, :, :500]\n",
    "\n",
    "    flux = (fluct_corner + 1) * 0.8\n",
    "    # Trim flux above 1 to 1.\n",
    "    flux[flux > 1] = 1\n",
    "    tau = -np.log(flux)\n",
    "    overdens = (tau / 0.226)**(1/1.5)\n",
    "    nan_mask = ~np.isnan(overdens.flatten())\n",
    "    pearsons_2.append(scipy.stats.pearsonr(zoomed_true_dens.flatten()[nan_mask], overdens.flatten()[nan_mask])[0])"
   ]
  },
  {
   "cell_type": "code",
   "execution_count": null,
   "id": "532e873e-102c-4937-a8b8-302c4cb9f92b",
   "metadata": {
    "tags": []
   },
   "outputs": [],
   "source": [
    "plt.hist(pearsons_2)"
   ]
  },
  {
   "cell_type": "code",
   "execution_count": null,
   "id": "2daa7ae7-f824-4247-8fd7-c8a6bd6b480c",
   "metadata": {
    "tags": []
   },
   "outputs": [],
   "source": [
    "print(np.argsort(pearsons_2))"
   ]
  }
 ],
 "metadata": {
  "kernelspec": {
   "display_name": "clamato-xcorr",
   "language": "python",
   "name": "clamato-xcorr"
  },
  "language_info": {
   "codemirror_mode": {
    "name": "ipython",
    "version": 3
   },
   "file_extension": ".py",
   "mimetype": "text/x-python",
   "name": "python",
   "nbconvert_exporter": "python",
   "pygments_lexer": "ipython3",
   "version": "3.6.13"
  }
 },
 "nbformat": 4,
 "nbformat_minor": 5
}
