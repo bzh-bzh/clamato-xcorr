{
 "cells": [
  {
   "cell_type": "code",
   "execution_count": null,
   "id": "a0f7d3c5-04b5-4c57-860d-4dfefaaebeb7",
   "metadata": {
    "tags": []
   },
   "outputs": [],
   "source": [
    "import os\n",
    "import sys\n",
    "from dotenv import find_dotenv\n",
    "sys.path.append(os.path.dirname(find_dotenv()))\n",
    "\n",
    "import numpy as np\n",
    "import time as time\n",
    "import glob\n",
    "import random\n",
    "import re\n",
    "from collections import defaultdict\n",
    "import pickle\n",
    "\n",
    "import constants\n",
    "\n",
    "# Set up matplotlib and use a nicer set of plot parameters\n",
    "%config InlineBackend.rc = {}\n",
    "import matplotlib as mpl\n",
    "mpl.rc('mathtext',fontset='stixsans')\n",
    "mpl.rc('figure', facecolor=\"white\")\n",
    "#matplotlib.rc_file(\"../../templates/matplotlibrc\")\n",
    "import matplotlib.pyplot as plt\n",
    "#import matplotlib.colors as colors\n",
    "# %matplotlib notebook\n",
    "\n",
    "from plotting import plot_preamble\n",
    "plot_preamble()\n",
    "\n",
    "#VEGA_OUTPUT_DIR = os.path.join(constants.BIAS_DIR_BASE, 'xcorr', 'vega-realistic-dispersion', 'bias-dispersion', 'output')\n",
    "VEGA_OUTPUT_DIR = os.path.join(constants.BIAS_DIR_BASE, 'xcorr', 'vega', 'output')"
   ]
  },
  {
   "cell_type": "code",
   "execution_count": null,
   "id": "c1f991dd-3487-4828-ba2c-c3eb96111859",
   "metadata": {
    "tags": []
   },
   "outputs": [],
   "source": [
    "regex = re.compile(r'.*bestfit_survey_([^_]*)_mass_([^_]*)_([^_]*).*\\.npz')\n",
    "\n",
    "param_bootstrap_dict = defaultdict(lambda: defaultdict(lambda: defaultdict(list)))"
   ]
  },
  {
   "cell_type": "code",
   "execution_count": null,
   "id": "e4c81f4f-f2ee-4b2c-b456-0d38ead1bed5",
   "metadata": {
    "tags": []
   },
   "outputs": [],
   "source": [
    "min_mass = np.inf\n",
    "\n",
    "for p in glob.glob(f'{VEGA_OUTPUT_DIR}/*.npz'):\n",
    "    match = regex.match(p)\n",
    "    survey, logmass_lb, logmass_ub = match.group(1, 2, 3)\n",
    "    logmass_lb, logmass_ub = float(logmass_lb), float(logmass_ub)\n",
    "    params = np.load(p)\n",
    "    for key in params.files:\n",
    "        val = params[key]\n",
    "        if val.ndim == 1:\n",
    "            val = val[0]\n",
    "        param_bootstrap_dict[survey][key][(logmass_lb, logmass_ub)].append(val)\n",
    "        min_mass = min(logmass_lb, min_mass)"
   ]
  },
  {
   "cell_type": "code",
   "execution_count": null,
   "id": "9326e879-3016-457d-97db-a09ebdc1e48e",
   "metadata": {
    "tags": []
   },
   "outputs": [],
   "source": [
    "figure_folder = os.path.join(constants.FIG_DIR_BASE, 'bias-err')\n",
    "\n",
    "with open(os.path.join(constants.BIAS_DIR_BASE, 'theoretical', 'sim_bias_binwidth_0.1_binstep_0.1.pickle'), 'rb') as f:\n",
    "    theoretical_mass, theoretical_bias = pickle.load(f)\n",
    "    theoretical_mass, theoretical_bias = np.array(theoretical_mass), np.array(theoretical_bias)\n",
    "    mask = theoretical_mass > min_mass\n",
    "    theoretical_mass = theoretical_mass[mask]\n",
    "    theoretical_bias = theoretical_bias[mask]\n",
    "\n",
    "for survey, param_dict in param_bootstrap_dict.items():\n",
    "    fig, axes = plt.subplots(len(param_dict), 1, sharex=True, figsize=(5, 2 * len(param_dict)), gridspec_kw={'height_ratios': [1 for _ in range(len(param_dict) - 1)] + [0.3]})\n",
    "    # if not isinstance(axes, list):\n",
    "    #     axes = [axes]\n",
    "    #axes[0].set_title(f'Bin width = 0.1 dex')\n",
    "    for ax, (param_name, mass_dict) in zip(axes, param_dict.items()):\n",
    "        bin_boundaries = set(sum(mass_dict.keys(), ()))\n",
    "        bin_boundaries = sorted(list(bin_boundaries))\n",
    "        x = []\n",
    "        lower_bound = []\n",
    "        median = []\n",
    "        upper_bound = []\n",
    "        for i in range(len(bin_boundaries) - 1):\n",
    "            key = (bin_boundaries[i], bin_boundaries[i + 1])\n",
    "            mass_list = mass_dict[key]\n",
    "            try:\n",
    "                assert mass_list\n",
    "            except AssertionError:\n",
    "                continue\n",
    "            x.append(np.mean([bin_boundaries[i], bin_boundaries[i + 1]]))\n",
    "            lower_bound.append(np.percentile(mass_list, 16))\n",
    "            median.append(np.median(mass_list))\n",
    "            upper_bound.append(np.percentile(mass_list, 84))\n",
    "        lower_bound, upper_bound = np.array(lower_bound), np.array(upper_bound)\n",
    "        if param_name == 'bias_QSO':\n",
    "            ax.set_ylabel(r'$b_{g}$')\n",
    "        elif param_name == 'reduced_chisq':\n",
    "            # ax.axhline(1, color='black', ls='--')\n",
    "            ax.set_ylabel(r'$\\chi_r^2 - 1$')\n",
    "            lower_bound -= 1\n",
    "            upper_bound -= 1\n",
    "            # ax.set_ylim(0, np.max(upper_bound))\n",
    "        else:\n",
    "            ax.set_ylabel(param_name)\n",
    "        ax.fill_between(x, lower_bound, upper_bound, alpha=0.7, color='darkred', label=f'Vega best fits')\n",
    "        if param_name == 'bias_QSO':\n",
    "            #ax.axhline(1)\n",
    "            with open(os.path.join(constants.BIAS_DIR_BASE, 'vega', f'hmass_bias_{survey}.pickle'), 'wb') as f:\n",
    "                pickle.dump((x, median), f)\n",
    "            #if survey == list(param_bootstrap_dict.keys())[0]:\n",
    "            ax.plot(theoretical_mass, theoretical_bias, color='grey', label=r'Theoretical $b_{g}-M_h$', zorder=-99, alpha=0.5)\n",
    "            ax.set_ylim(None, 15)\n",
    "        if param_name == 'sigma_velo_disp_gauss_QSO' and survey == 'CLAMATO':\n",
    "            ax.axhline(3, color='black', ls='--', label=f'{survey} True dispersion')\n",
    "        if not param_name == 'reduced_chisq':\n",
    "            ax.legend()\n",
    "    plt.xlabel(r'$log_{10}(M_h\\; / \\;M_\\odot)$')\n",
    "    plt.tight_layout()\n",
    "    plt.savefig(os.path.join(figure_folder, f'{survey}_err.pdf'))\n",
    "    plt.savefig(os.path.join(figure_folder, f'{survey}_err.png'), transparent=False, dpi=400)\n",
    "    plt.show()"
   ]
  },
  {
   "cell_type": "code",
   "execution_count": null,
   "id": "3cad2c91-d5e3-4841-bbc2-33a58433ab65",
   "metadata": {},
   "outputs": [],
   "source": []
  }
 ],
 "metadata": {
  "kernelspec": {
   "display_name": "clamato-xcorr",
   "language": "python",
   "name": "clamato-xcorr"
  },
  "language_info": {
   "codemirror_mode": {
    "name": "ipython",
    "version": 3
   },
   "file_extension": ".py",
   "mimetype": "text/x-python",
   "name": "python",
   "nbconvert_exporter": "python",
   "pygments_lexer": "ipython3",
   "version": "3.6.13"
  }
 },
 "nbformat": 4,
 "nbformat_minor": 5
}
