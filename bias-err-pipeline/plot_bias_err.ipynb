{
 "cells": [
  {
   "cell_type": "code",
   "execution_count": null,
   "id": "a0f7d3c5-04b5-4c57-860d-4dfefaaebeb7",
   "metadata": {
    "tags": []
   },
   "outputs": [],
   "source": [
    "import os\n",
    "import sys\n",
    "from dotenv import find_dotenv\n",
    "sys.path.append(os.path.dirname(find_dotenv()))\n",
    "\n",
    "import numpy as np\n",
    "import time as time\n",
    "import glob\n",
    "import random\n",
    "import re\n",
    "from collections import defaultdict\n",
    "\n",
    "import constants\n",
    "\n",
    "# Set up matplotlib and use a nicer set of plot parameters\n",
    "%config InlineBackend.rc = {}\n",
    "import matplotlib as mpl\n",
    "mpl.rc('mathtext',fontset='stixsans')\n",
    "mpl.rc('figure', facecolor=\"white\")\n",
    "#matplotlib.rc_file(\"../../templates/matplotlibrc\")\n",
    "import matplotlib.pyplot as plt\n",
    "#import matplotlib.colors as colors\n",
    "# %matplotlib notebook\n",
    "\n",
    "VEGA_OUTPUT_DIR = os.path.join(constants.BIAS_DIR_BASE, 'xcorr', 'vega', 'output')"
   ]
  },
  {
   "cell_type": "code",
   "execution_count": null,
   "id": "c1f991dd-3487-4828-ba2c-c3eb96111859",
   "metadata": {
    "tags": []
   },
   "outputs": [],
   "source": [
    "regex = re.compile(r'.*bestfit_bias_survey_([^_]*)_mass_([^_]*)_([^_]*).*\\.npy')\n",
    "\n",
    "bias_bootstrap_dict = defaultdict(lambda: defaultdict(list))\n",
    "chisq_dict_all = defaultdict(lambda: defaultdict(list))"
   ]
  },
  {
   "cell_type": "code",
   "execution_count": null,
   "id": "e4c81f4f-f2ee-4b2c-b456-0d38ead1bed5",
   "metadata": {
    "tags": []
   },
   "outputs": [],
   "source": [
    "for p in glob.glob(f'{VEGA_OUTPUT_DIR}/*.npy'):\n",
    "    match = regex.match(p)\n",
    "    survey, logmass_lb, logmass_ub = match.group(1, 2, 3)\n",
    "    logmass_lb, logmass_ub = float(logmass_lb), float(logmass_ub)\n",
    "    bias, bias_err, reduced_chisq = np.load(p)\n",
    "    bias_bootstrap_dict[survey][(logmass_lb, logmass_ub)].append(bias)\n",
    "    chisq_dict_all[survey][(logmass_lb, logmass_ub)].append(reduced_chisq)"
   ]
  },
  {
   "cell_type": "code",
   "execution_count": null,
   "id": "9326e879-3016-457d-97db-a09ebdc1e48e",
   "metadata": {
    "tags": []
   },
   "outputs": [],
   "source": [
    "figure_folder = os.path.join(constants.BIAS_DIR_BASE, 'figures')\n",
    "\n",
    "for survey, bias_dict in bias_bootstrap_dict.items():\n",
    "    chisq_dict = chisq_dict_all[survey]\n",
    "    bin_boundaries = set(sum(bias_dict.keys(), ()))\n",
    "    bin_boundaries = sorted(list(bin_boundaries))\n",
    "    x = []\n",
    "    bias_lower_bound = []\n",
    "    bias_upper_bound = []\n",
    "    reduced_chisq_lb = []\n",
    "    reduced_chisq_ub = []\n",
    "    for i in range(len(bin_boundaries) - 1):\n",
    "        key = (bin_boundaries[i], bin_boundaries[i + 1])\n",
    "        x.append(np.mean([bin_boundaries[i], bin_boundaries[i + 1]]))\n",
    "        bias_list = bias_dict[key]\n",
    "        assert bias_list\n",
    "        bias_lower_bound.append(np.percentile(bias_list, 16))\n",
    "        bias_upper_bound.append(np.percentile(bias_list, 84))\n",
    "        reduced_chisq_lb.append(np.percentile(chisq_dict[key], 16))\n",
    "        reduced_chisq_ub.append(np.percentile(chisq_dict[key], 84))\n",
    "    plt.fill_between(x, bias_lower_bound, bias_upper_bound, color='black', alpha=0.2)\n",
    "    plt.title(survey)\n",
    "    plt.xlabel('Halo mass [M$_\\odot$/h]')\n",
    "    plt.ylabel('Galaxy bias')\n",
    "    plt.tight_layout()\n",
    "    plt.savefig(os.path.join(figure_folder, f'{survey}_bias_err.pdf'))\n",
    "    plt.show()\n",
    "        \n",
    "    plt.fill_between(x, reduced_chisq_lb, reduced_chisq_ub, color='black', alpha=0.2)\n",
    "    plt.title(survey)\n",
    "    plt.xlabel('Halo mass [M_$\\odot$/h]')\n",
    "    plt.ylabel('Best-fit reduced chi-squared')\n",
    "    plt.tight_layout()\n",
    "    plt.savefig(os.path.join(figure_folder, f'{survey}_reduced_chisq.pdf'))\n",
    "    plt.show()"
   ]
  },
  {
   "cell_type": "code",
   "execution_count": null,
   "id": "7e884115-9bca-4089-879f-a04c33708bd8",
   "metadata": {},
   "outputs": [],
   "source": []
  }
 ],
 "metadata": {
  "kernelspec": {
   "display_name": "clamato-xcorr",
   "language": "python",
   "name": "clamato-xcorr"
  },
  "language_info": {
   "codemirror_mode": {
    "name": "ipython",
    "version": 3
   },
   "file_extension": ".py",
   "mimetype": "text/x-python",
   "name": "python",
   "nbconvert_exporter": "python",
   "pygments_lexer": "ipython3",
   "version": "3.6.13"
  }
 },
 "nbformat": 4,
 "nbformat_minor": 5
}
