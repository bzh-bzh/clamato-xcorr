{
 "cells": [
  {
   "cell_type": "code",
   "execution_count": null,
   "metadata": {},
   "outputs": [],
   "source": [
    "import os\n",
    "import sys\n",
    "from dotenv import find_dotenv\n",
    "sys.path.append(os.path.dirname(find_dotenv()))\n",
    "\n",
    "import numpy as np\n",
    "import time as time\n",
    "import glob\n",
    "import random\n",
    "import constants\n",
    "\n",
    "# Set up matplotlib and use a nicer set of plot parameters\n",
    "%config InlineBackend.rc = {}\n",
    "import matplotlib as mpl\n",
    "mpl.rc('mathtext',fontset='stixsans')\n",
    "mpl.rc('figure', facecolor=\"white\")\n",
    "#matplotlib.rc_file(\"../../templates/matplotlibrc\")\n",
    "import matplotlib.pyplot as plt\n",
    "#import matplotlib.colors as colors\n",
    "# %matplotlib notebook\n",
    "\n",
    "from astropy.cosmology import FlatLambdaCDM\n",
    "from astropy.io import fits\n",
    "from astropy.io import ascii\n",
    "from astropy.table import Table\n",
    "from astropy import units as u\n",
    "from astropy.coordinates import SkyCoord\n",
    "\n",
    "# Define cosmology\n",
    "cosmo = constants.COSMOLOGY\n",
    "\n",
    "PiBin_fil = os.path.join(constants.XCORR_DIR_BASE, 'bins23_pi_0-30hMpc.txt')\n",
    "SigBin_fil = os.path.join(constants.XCORR_DIR_BASE, 'bins10_sigma_0-30hMpc.txt')\n",
    "\n",
    "PiBins0 = ascii.read(PiBin_fil)\n",
    "SigBins0 = ascii.read(SigBin_fil)\n",
    "\n",
    "PiEdges = PiBins0['pi_edges'].data\n",
    "SigEdges = SigBins0['sigma_edges'].data\n",
    "\n",
    "# Convert bin boundaries from Mpc/h to Mpc\n",
    "PiEdges  = PiEdges/(len(PiEdges)*[cosmo.h])\n",
    "SigEdges = SigEdges/(len(SigEdges)*[cosmo.h])\n",
    "\n",
    "print('Pi bin edges in Mpc:')\n",
    "print(PiEdges)\n",
    "print('Sigma bin edges in Mpc:')\n",
    "print(SigEdges)\n",
    "\n",
    "MOCK_XCORR_DIR = os.path.join(constants.BIAS_DIR_BASE, 'xcorr', 'mock', 'crosscorr')"
   ]
  },
  {
   "cell_type": "code",
   "execution_count": null,
   "metadata": {
    "tags": []
   },
   "outputs": [],
   "source": [
    "X, Y = np.meshgrid(SigEdges, PiEdges)\n",
    "\n",
    "SigMax = 35.\n",
    "PiMin = -40.\n",
    "PiMax = 40.\n",
    "\n",
    "def plot_one_crosscorr(crosscorr_path, xcorr=None):\n",
    "    if xcorr is None:\n",
    "        xcorr = np.load(crosscorr_path).T\n",
    "\n",
    "    plt.figure(figsize=(2, 14/3))\n",
    "    plt.pcolormesh(X, Y, xcorr,cmap='jet_r',vmin=-0.2, vmax=0.1 )\n",
    "    plt.gca().set_aspect('equal')\n",
    "    plt.gca().set_xlim(np.min(X), SigMax)\n",
    "    plt.gca().set_ylim(PiMin, PiMax)\n",
    "    plt.gca().set_xlabel(r'$\\sigma\\; (\\mathrm{cMpc})$')\n",
    "    plt.gca().set_ylabel(r'$\\pi\\; (\\mathrm{cMpc})$')"
   ]
  },
  {
   "cell_type": "code",
   "execution_count": null,
   "metadata": {
    "tags": []
   },
   "outputs": [],
   "source": [
    "# for p in random.sample(list(glob.glob(os.path.join(MOCK_XCORR_DIR, '*.npy'))), 100):\n",
    "#     plot_one_crosscorr(p)\n",
    "#     plt.show()"
   ]
  },
  {
   "cell_type": "code",
   "execution_count": null,
   "metadata": {},
   "outputs": [],
   "source": [
    "def average_xcorrs(prefix):\n",
    "    xcorr_path_list = glob.glob(os.path.join(MOCK_XCORR_DIR, f\"{prefix}*\"))\n",
    "    xcorr_plot_sum = 0\n",
    "    for i, p in enumerate(xcorr_path_list):\n",
    "        xcorr_plot_sum += np.load(p).T\n",
    "    return xcorr_plot_sum / len(xcorr_path_list)"
   ]
  },
  {
   "cell_type": "code",
   "execution_count": null,
   "metadata": {
    "tags": []
   },
   "outputs": [],
   "source": [
    "log_lb_list = np.arange(9, 13.4 - 0.1, 0.1)\n",
    "\n",
    "for lb in log_lb_list:\n",
    "    ub = lb + 0.1\n",
    "    avg_xcorr = average_xcorrs(f'xcorrmock_survey_CLAMATO_mass_{lb}_{ub}')\n",
    "    plot_one_crosscorr('', xcorr=avg_xcorr)\n",
    "    plt.title(f'{lb} {ub}')\n",
    "    plt.show()"
   ]
  },
  {
   "cell_type": "code",
   "execution_count": null,
   "metadata": {},
   "outputs": [],
   "source": []
  }
 ],
 "metadata": {
  "kernelspec": {
   "display_name": "clamato-xcorr",
   "language": "python",
   "name": "clamato-xcorr"
  },
  "language_info": {
   "codemirror_mode": {
    "name": "ipython",
    "version": 3
   },
   "file_extension": ".py",
   "mimetype": "text/x-python",
   "name": "python",
   "nbconvert_exporter": "python",
   "pygments_lexer": "ipython3",
   "version": "3.6.13"
  }
 },
 "nbformat": 4,
 "nbformat_minor": 4
}
