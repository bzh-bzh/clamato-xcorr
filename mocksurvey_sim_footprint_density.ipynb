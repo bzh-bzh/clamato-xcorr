{
 "cells": [
  {
   "cell_type": "code",
   "execution_count": null,
   "id": "56a32110-ddf5-4589-b43c-24ea869e2028",
   "metadata": {},
   "outputs": [],
   "source": [
    "import numpy as np\n",
    "\n",
    "%pylab inline"
   ]
  },
  {
   "cell_type": "code",
   "execution_count": null,
   "id": "291853a9-5437-4ebc-ab8b-b48f4ce8f4cb",
   "metadata": {},
   "outputs": [],
   "source": [
    "dens = np.load('/global/homes/b/bzh/projectdir/bzh/BolshoiP/z2.5/BolshoiP_rsd_cic_n298_0094.npy')\n",
    "total_mean_dens = np.mean(dens)\n",
    "\n",
    "nmock_x = 7\n",
    "nmock_y = 9\n",
    "\n",
    "width_x = int(34 * 298 / 250) # pixel\n",
    "width_y = int(28 * 298 / 250) # pixel\n",
    "\n",
    "print(width_x, width_y)\n",
    "\n",
    "mean_densities = []\n",
    "\n",
    "for xlow in range(0, 250, width_x):\n",
    "    for ylow in range(0, 297, width_y):\n",
    "        xhigh = min(xlow + width_x, 298)\n",
    "        yhigh = min(ylow + width_y, 298)\n",
    "        mean_densities.append(np.mean(dens[xlow:xhigh, ylow:yhigh] / total_mean_dens - 1))"
   ]
  },
  {
   "cell_type": "code",
   "execution_count": null,
   "id": "9b1bfb2d-2122-4a36-8c26-a437b89f935e",
   "metadata": {},
   "outputs": [],
   "source": [
    "print(np.argmin(mean_densities) + 1, np.min(mean_densities))\n",
    "median_dens_ind = numpy.argsort(mean_densities)[len(mean_densities)//2]\n",
    "print(median_dens_ind + 1, mean_densities[median_dens_ind])\n",
    "print(np.argmax(mean_densities) + 1, np.max(mean_densities))\n",
    "# And field 59, for ~the same density as the CLAMATO field."
   ]
  },
  {
   "cell_type": "code",
   "execution_count": null,
   "id": "2d4020b9-5643-4757-a33c-8dfb12cd847f",
   "metadata": {},
   "outputs": [],
   "source": [
    "plt.scatter(range(1, 64), mean_densities)\n",
    "plt.axhline(0.06294089, color='black')\n",
    "plt.axvline(59, color='black')\n",
    "print(mean_densities[59 - 1])"
   ]
  },
  {
   "cell_type": "code",
   "execution_count": null,
   "id": "7397b4b5-06f3-46ed-b4db-589c120fd546",
   "metadata": {},
   "outputs": [],
   "source": []
  }
 ],
 "metadata": {
  "kernelspec": {
   "display_name": "clamato-xcorr",
   "language": "python",
   "name": "clamato-xcorr"
  },
  "language_info": {
   "codemirror_mode": {
    "name": "ipython",
    "version": 3
   },
   "file_extension": ".py",
   "mimetype": "text/x-python",
   "name": "python",
   "nbconvert_exporter": "python",
   "pygments_lexer": "ipython3",
   "version": "3.6.13"
  }
 },
 "nbformat": 4,
 "nbformat_minor": 5
}
