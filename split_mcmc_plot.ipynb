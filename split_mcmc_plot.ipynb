{
 "cells": [
  {
   "cell_type": "code",
   "execution_count": null,
   "id": "43ddb492-df5d-4aa4-a12d-dfe243496431",
   "metadata": {},
   "outputs": [],
   "source": [
    "import os\n",
    "import glob\n",
    "import collections\n",
    "from pathlib import Path\n",
    "\n",
    "from astropy.io import ascii\n",
    "from vega import VegaInterface\n",
    "import emcee\n",
    "import corner\n",
    "import yaml\n",
    "%pylab inline\n",
    "\n",
    "import constants\n",
    "from MCMC_Run import one_dimensional_log_lik"
   ]
  },
  {
   "cell_type": "code",
   "execution_count": null,
   "id": "6ba480f6-a358-40b5-8b59-a70d1323a821",
   "metadata": {},
   "outputs": [],
   "source": [
    "LABEL_MAPPING = {\n",
    "    'bias_QSO': r'$b_{gal}$', \n",
    "    'beta_QSO': r'$\\beta_{gal}$', \n",
    "    'sigma_velo_disp_gauss_QSO': r'$\\sigma_z$',\n",
    "    'drp_QSO': r'$\\delta_z$',\n",
    "    'bias_hcd': r'$b_{DLA}$',\n",
    "    'beta_hcd': r'$\\beta_{DLA}$',\n",
    "    'L0_hcd': r'$L_{DLA}$'\n",
    "}\n",
    "\n",
    "SURVEY_TITLE_MAPPING = {\n",
    "    '3dhst': '3D-HST',\n",
    "    'clamato': 'CLAMATO',\n",
    "    'mosdef': 'MOSDEF',\n",
    "    'vuds': 'VUDS',\n",
    "    'zDeep': 'COSMOS-zDEEP'\n",
    "}\n",
    "\n",
    "STACKED_MASS_BIN_TITLE_MAPPING = {\n",
    "    'lowmass': 'LM',\n",
    "    'medmass': 'MM',\n",
    "    'highmass': 'HM'\n",
    "}\n",
    "\n",
    "constants.MCMC_DIR_BASE = '/global/homes/b/bzh/clamato-xcorr/data/split-mcmc'"
   ]
  },
  {
   "cell_type": "code",
   "execution_count": null,
   "id": "d3949e54-4513-44ef-a06c-61d154b9e0be",
   "metadata": {},
   "outputs": [],
   "source": [
    "def plot_model_w_data(survey_name, param_dict, model_num_params,\n",
    "                      SigMin = 0., SigMax = 30.,\n",
    "                      PiMin = -30., PiMax = 30.,\n",
    "                      one_dimensional=False):\n",
    "\n",
    "    PiBins0 = ascii.read(Path(constants.XCORR_DIR_BASE) / 'bins23_pi_0-30hMpc.txt')\n",
    "    SigBins0 = ascii.read(Path(constants.XCORR_DIR_BASE) / 'bins10_sigma_0-30hMpc.txt')\n",
    "    cosmo = constants.COSMOLOGY\n",
    "    \n",
    "    XCorr_obs = np.load(Path(constants.XCORR_DIR_BASE) / 'split' / f'xcorr_{survey_name}_globalf_{constants.DATA_VERSION}.npy')\n",
    "\n",
    "    PiEdges = PiBins0['pi_edges'].data\n",
    "    SigEdges = SigBins0['sigma_edges'].data\n",
    "\n",
    "    SigEdgesVec, PiEdgesVec = np.meshgrid(SigEdges, PiEdges)\n",
    "\n",
    "    SigEdgesPlot = SigEdgesVec / (np.ones(np.shape(SigEdgesVec))*[cosmo.h])\n",
    "    PiEdgesPlot = PiEdgesVec / (np.ones(np.shape(PiEdgesVec))*[cosmo.h])\n",
    "    \n",
    "    SigCentersPlot = (SigEdges[1:] + SigEdges[:-1]) / 2\n",
    "    SigCentersPlot /= cosmo.h\n",
    "\n",
    "    vega = VegaInterface(Path(constants.MCMC_DIR_BASE) / survey_name.split('_')[0] / f'main_{survey_name}.ini')\n",
    "    if one_dimensional:\n",
    "        VegaInterface.log_lik = one_dimensional_log_lik\n",
    "    \n",
    "    for k, v in param_dict.items():\n",
    "        vega.params[k] = v\n",
    "    if 'beta_QSO' not in param_dict and 'bias_eta_QSO' not in param_dict:\n",
    "        vega.params['beta_QSO'] = vega.params['growth_rate'] / vega.params['bias_QSO']\n",
    "    XModel = vega.compute_model()['qsoxlya'].reshape(*XCorr_obs.shape)\n",
    "    XModelPlot = XModel.T\n",
    "        \n",
    "    # Verify that the model is now in the same shape as the observed (which should be in the \n",
    "    # 'original' shape)\n",
    "    XCorrPlot = np.transpose(XCorr_obs)\n",
    "    if not np.array_equal(np.shape(XModelPlot),np.shape(XCorrPlot)):\n",
    "        if np.array_equal(np.shape(np.transpose(XCorrPlot)),np.shape(XModelPlot)):\n",
    "            XCorrPlot = np.transpose(XCorrPlot)\n",
    "        else:\n",
    "            print('Input XCorr array not compatible with model array!')\n",
    "            \n",
    "    if one_dimensional:\n",
    "        _, (chi2, reduced_covar, mask_nonflat) = vega.log_lik(return_aux=True)\n",
    "\n",
    "        # Reduce xcorrs.\n",
    "        XCorrPlot = np.ma.array(XCorrPlot, mask=mask_nonflat.T).sum(axis=0)\n",
    "        XModelPlot = np.ma.array(XModelPlot, mask=mask_nonflat.T).sum(axis=0)\n",
    "        assert len(XCorrPlot) == len(SigCentersPlot)\n",
    "        assert XCorrPlot.ndim == 1\n",
    "\n",
    "        plt.errorbar(SigCentersPlot, XCorrPlot, yerr=np.sqrt(np.diag(reduced_covar)), color='black', label='Observed')\n",
    "        plt.plot(SigCentersPlot, XModelPlot, color='red', label='Best-fit model')\n",
    "        plt.xlabel(r'$\\sigma\\; (\\mathrm{cMpc})$')\n",
    "        plt.ylabel(r'$\\pi$-summed cross-correlation')\n",
    "        plt.title(f'Reduced $\\chi^2$ = {chi2 / (np.sum(~XCorrPlot.mask) - model_num_params):.3f}', y=0.9, fontsize=10)\n",
    "    else:\n",
    "        fig, (ax1, ax2) = plt.subplots(1,2,figsize=(5,5))\n",
    "\n",
    "        ax1.pcolormesh(SigEdgesPlot, PiEdgesPlot, XCorrPlot,cmap='jet_r',vmin=-0.2, vmax=0.1 )\n",
    "        ax1.set_aspect('equal')\n",
    "        ax1.set_xlim(0., SigMax)\n",
    "        ax1.set_ylim(PiMin, PiMax)\n",
    "        ax1.set_xlabel(r'$\\sigma\\; (\\mathrm{cMpc})$')\n",
    "        ax1.set_ylabel(r'$\\pi\\; (\\mathrm{cMpc})$')\n",
    "        # ax1.set_title(survey_name,fontsize=10)\n",
    "\n",
    "        ax2.pcolormesh(SigEdgesPlot, PiEdgesPlot, XModelPlot,cmap='jet_r',vmin=-0.2, vmax=0.1 )\n",
    "        ax2.set_aspect('equal')\n",
    "        ax2.set_xlim(SigMin, SigMax)\n",
    "        ax2.set_ylim(PiMin, PiMax)\n",
    "        ax2.set_xlabel(r'$\\sigma\\; (\\mathrm{cMpc})$')\n",
    "        # ax2.set_title(f'chi-sq = {vega.chi2():.1f}',fontsize=10)\n",
    "        # print(vega.corr_items['qsoxlya'].rp_rt_grid[1][~vega.data['qsoxlya'].mask])\n",
    "        fig.suptitle(f'Reduced $\\chi^2$ = {vega.chi2() / (np.sum(vega.data[\"qsoxlya\"].mask) - model_num_params):.3f}', y=0.9, fontsize=10)"
   ]
  },
  {
   "cell_type": "code",
   "execution_count": null,
   "id": "18c292e6-22d2-476d-a540-ecf5742ba7dc",
   "metadata": {},
   "outputs": [],
   "source": [
    "def corner_plot(survey_name, chain_suffix='', config_suffix=None, show_grid_fit=False, one_dimensional=False, **kwargs):\n",
    "    backend = emcee.backends.HDFBackend(os.path.join(constants.MCMC_DIR_BASE, survey_name, f'chain_{survey_name}{chain_suffix}.hdf5'), read_only=True)\n",
    "    config = None\n",
    "    if config_suffix is None:\n",
    "        config_suffix = chain_suffix\n",
    "    for p in glob.glob('mcmc_cfg/*.yaml'):\n",
    "        if p.split('/')[-1].casefold() == f'{survey_name.casefold()}_split{config_suffix}.yaml':\n",
    "            with open(p, 'r') as f:\n",
    "                config = yaml.safe_load(f)\n",
    "    if not config:\n",
    "        raise RuntimeError\n",
    "    if 'beta_QSO' in config['initial'] and config['initial']['beta_QSO'] is None:\n",
    "        del config['initial']['beta_QSO']\n",
    "    tau = backend.get_autocorr_time(quiet=True)\n",
    "    burnin = int(2 * np.max(tau))\n",
    "    thin = int(0.5 * np.min(tau))\n",
    "    # thin = int(np.max(tau))\n",
    "    chain_len = len(backend.get_chain())\n",
    "    samples = backend.get_chain(discard=burnin, flat=True, thin=thin)\n",
    "    \n",
    "    print(f\"Autocorrelation time: {tau}\")\n",
    "    print(f\"Chain length: {chain_len}; Chain length / 50: {chain_len / 50:.2f}\")\n",
    "    print(\"Burn-in: {0}\".format(burnin))\n",
    "    print(\"Thin: {0}\".format(thin))\n",
    "    print(\"Flat chain shape: {0}; {1:.1f} autocorrelation times.\".format(samples.shape, samples.shape[0] / np.max(tau)))\n",
    "    \n",
    "    final_medians = np.median(samples, axis=0)\n",
    "    unflat_samples = backend.get_chain(discard=burnin, flat=False, thin=thin)\n",
    "    # print(unflat_samples.shape)\n",
    "    for i in range(1, unflat_samples.shape[0]):\n",
    "        subsample = unflat_samples[:i].reshape(-1, samples.shape[-1])\n",
    "        if np.allclose(np.median(subsample, axis=0), final_medians, rtol=0.05):\n",
    "            print(f'# chain iterations to arrive at ~5% parameter estimate: {i * thin + burnin}')\n",
    "            break\n",
    "    \n",
    "    if show_grid_fit:\n",
    "        truths = config['initial'].values()\n",
    "    else:\n",
    "        truths = None\n",
    "        \n",
    "    # For corner plot, multiply delta_z by -1 so we're consistent with definitions.\n",
    "    delta_z_inverted_samples = np.copy(samples)\n",
    "    try:\n",
    "        assert 'drp_QSO' in config['initial']\n",
    "        delta_z_ind = -1\n",
    "        delta_z_inverted_samples[:, delta_z_ind] *= -1\n",
    "        if truths:\n",
    "            truths[delta_z_ind] *= -1\n",
    "    except AssertionError:\n",
    "        pass\n",
    "    \n",
    "    # Divide dispersion by 2 to get to what we consider z-dispersion.\n",
    "    disp_corrected_samples = np.copy(delta_z_inverted_samples)\n",
    "    try:\n",
    "        assert 'sigma_velo_disp_gauss_QSO' in config['initial']\n",
    "        sigma_z_ind = -2\n",
    "        disp_corrected_samples[:, sigma_z_ind] /= 2\n",
    "        if truths:\n",
    "            truths[sigma_z_ind] /= 2\n",
    "    except AssertionError:\n",
    "        pass\n",
    "    \n",
    "    corner_labels = []\n",
    "    for mass_bin in constants.STACKED_BIN_TITLES:\n",
    "        corner_labels.append(f\"{STACKED_MASS_BIN_TITLE_MAPPING[mass_bin]} {LABEL_MAPPING['bias_QSO']}\")\n",
    "    if 'sigma_velo_disp_gauss_QSO' in config['initial']:\n",
    "        corner_labels.append(LABEL_MAPPING['sigma_velo_disp_gauss_QSO'])\n",
    "    if 'drp_QSO' in config['initial']:\n",
    "        corner_labels.append(LABEL_MAPPING['drp_QSO'])\n",
    "    \n",
    "    corner.corner(disp_corrected_samples, labels=corner_labels, show_titles=True, \n",
    "                  truths=truths, truth_color='red',\n",
    "                  **kwargs)\n",
    "    plt.suptitle(SURVEY_TITLE_MAPPING[survey_name], x=0.54, weight='bold', fontsize=14)\n",
    "    plt.savefig(os.path.join(constants.FIG_DIR_BASE, 'split-mcmc', f'titledcorner_{survey_name}{chain_suffix}.png'))\n",
    "    plt.suptitle('')\n",
    "    plt.savefig(os.path.join(constants.FIG_DIR_BASE, 'split-mcmc', f'corner_{survey_name}{chain_suffix}.pdf'))\n",
    "    plt.savefig(os.path.join(constants.FIG_DIR_BASE, 'split-mcmc', f'corner_{survey_name}{chain_suffix}.png'))\n",
    "    plt.show()\n",
    "    for i, mass_bin in enumerate(constants.STACKED_BIN_TITLES):\n",
    "        median_params = {\n",
    "            'bias_QSO': np.median(samples[:, i])\n",
    "        }\n",
    "        if 'sigma_velo_disp_gauss_QSO' in config['initial']:\n",
    "            median_params['sigma_velo_disp_gauss_QSO'] = np.median(samples[:, sigma_z_ind])\n",
    "        if 'drp_QSO' in config['initial']:\n",
    "            median_params['drp_QSO'] = np.median(samples[:, delta_z_ind])\n",
    "            \n",
    "        if 'fixed' in config and config['fixed']:\n",
    "            for k, p in config['fixed'].items():\n",
    "                median_params[k] = p\n",
    "        plot_model_w_data(f'{survey_name}_{mass_bin}', median_params, samples.shape[1] - (len(constants.STACKED_BIN_TITLES) - 1), one_dimensional=one_dimensional)\n",
    "        plt.tight_layout()\n",
    "    \n",
    "        plt.savefig(os.path.join(constants.FIG_DIR_BASE, 'split-mcmc', f'bestmodel_{survey_name}_{mass_bin}{chain_suffix}.pdf'))\n",
    "        plt.savefig(os.path.join(constants.FIG_DIR_BASE, 'split-mcmc', f'bestmodel_{survey_name}_{mass_bin}{chain_suffix}.png'))\n",
    "        if one_dimensional:\n",
    "            plt.title(f'{STACKED_MASS_BIN_TITLE_MAPPING[mass_bin]} {SURVEY_TITLE_MAPPING[survey_name]} | ' + plt.gca().get_title(), y=0.9, fontsize=10)\n",
    "        else:\n",
    "            plt.suptitle(f'{STACKED_MASS_BIN_TITLE_MAPPING[mass_bin]} {SURVEY_TITLE_MAPPING[survey_name]} | ' + plt.gcf()._suptitle.get_text(), y=0.9, fontsize=10)\n",
    "        plt.savefig(os.path.join(constants.FIG_DIR_BASE, 'split-mcmc', f'titledbestmodel_{survey_name}_{mass_bin}{chain_suffix}.png'))\n",
    "        plt.show()\n",
    "    return samples"
   ]
  },
  {
   "cell_type": "code",
   "execution_count": null,
   "id": "62c719cd-30e7-4ddb-a618-859db6f21176",
   "metadata": {},
   "outputs": [],
   "source": [
    "sample_2d = {}\n",
    "sample_1d = {}"
   ]
  },
  {
   "cell_type": "code",
   "execution_count": null,
   "id": "a430189b-d9f0-4a4d-b19a-4e5eecb71dd9",
   "metadata": {
    "tags": []
   },
   "outputs": [],
   "source": [
    "sample_2d['clamato'] = corner_plot('clamato', chain_suffix='', config_suffix='')"
   ]
  },
  {
   "cell_type": "code",
   "execution_count": null,
   "id": "b8d9699e-443b-46ec-88e2-829c0b91c083",
   "metadata": {
    "tags": []
   },
   "outputs": [],
   "source": [
    "sample_1d['clamato'] = corner_plot('clamato', chain_suffix='_oned', one_dimensional=True)"
   ]
  },
  {
   "cell_type": "code",
   "execution_count": null,
   "id": "bad91459-4734-4657-b2d0-fdc9355cda12",
   "metadata": {},
   "outputs": [],
   "source": [
    "sample_2d['vuds'] = corner_plot('vuds')"
   ]
  },
  {
   "cell_type": "code",
   "execution_count": null,
   "id": "e9bd6838-b06f-43f7-b4ea-8fb8bae03497",
   "metadata": {},
   "outputs": [],
   "source": [
    "sample_1d['vuds'] = corner_plot('vuds', chain_suffix='_oned', one_dimensional=True)"
   ]
  },
  {
   "cell_type": "code",
   "execution_count": null,
   "id": "db5697cb-acd3-4578-92f7-ca1eb613fa99",
   "metadata": {},
   "outputs": [],
   "source": [
    "sample_2d['zDeep'] = corner_plot('zDeep')"
   ]
  },
  {
   "cell_type": "code",
   "execution_count": null,
   "id": "92f60e1e-51e0-4328-bb90-fbd33dab6cb4",
   "metadata": {},
   "outputs": [],
   "source": [
    "sample_1d['zDeep'] = corner_plot('zDeep', chain_suffix='_oned', one_dimensional=True)"
   ]
  },
  {
   "cell_type": "code",
   "execution_count": null,
   "id": "01bc623f-acf6-4a09-af27-8627d5a1f0e7",
   "metadata": {},
   "outputs": [],
   "source": [
    "sample_2d['mosdef'] = corner_plot('mosdef')"
   ]
  },
  {
   "cell_type": "code",
   "execution_count": null,
   "id": "f81ae280-0ed4-44f9-ac4f-e3abd56422d3",
   "metadata": {},
   "outputs": [],
   "source": [
    "sample_1d['mosdef'] = corner_plot('mosdef', chain_suffix='_oned', one_dimensional=True)"
   ]
  },
  {
   "cell_type": "code",
   "execution_count": null,
   "id": "e69e8dea-14fb-485a-893d-184112efa75a",
   "metadata": {
    "tags": []
   },
   "outputs": [],
   "source": [
    "fig, axes = plt.subplots(1, 3, figsize=(15, 4))\n",
    "\n",
    "for survey, samples in sample_2d.items():\n",
    "    for i, label in enumerate(['Low mass', 'Medium mass', 'High mass']):\n",
    "        axes[i].hist(samples[:, i], bins=30, alpha=0.4, label=survey, density=True)\n",
    "        axes[i].set_title(label)\n",
    "plt.suptitle('2D cross-correlation')\n",
    "plt.legend()\n",
    "plt.tight_layout()"
   ]
  },
  {
   "cell_type": "code",
   "execution_count": null,
   "id": "48e0cf37-d01a-45f7-8078-c73b34ca60b5",
   "metadata": {
    "tags": []
   },
   "outputs": [],
   "source": [
    "fig, axes = plt.subplots(1, 3, figsize=(15, 4))\n",
    "\n",
    "for survey, samples in sample_1d.items():\n",
    "    for i, label in enumerate(['Low mass', 'Medium mass', 'High mass']):\n",
    "        axes[i].hist(samples[:, i], bins=30, alpha=0.4, label=survey, density=True)\n",
    "        axes[i].set_title(label)\n",
    "plt.suptitle('1D cross-correlation')\n",
    "plt.legend()\n",
    "plt.tight_layout()"
   ]
  },
  {
   "cell_type": "code",
   "execution_count": null,
   "id": "7e47000e-3981-4f3c-9152-317a2f90ebb8",
   "metadata": {},
   "outputs": [],
   "source": [
    "plt.figure(figsize=(1.5, 5))\n",
    "img = plt.imshow(np.array([[-0.2, 0.1]]), cmap='jet_r')\n",
    "img.set_visible(False)\n",
    "plt.axis('off')\n",
    "plt.colorbar(fraction=1)\n",
    "plt.savefig(os.path.join(constants.FIG_DIR_BASE, 'split-mcmc', 'bestmodel_colorbar.png'))"
   ]
  },
  {
   "cell_type": "code",
   "execution_count": null,
   "id": "b06dc474-bf53-4f14-a05d-115d682dd2f0",
   "metadata": {},
   "outputs": [],
   "source": [
    "pwd = os.getcwd()\n",
    "os.chdir(os.path.join(constants.FIG_DIR_BASE, 'split-mcmc'))\n",
    "os.system('./create-mosaic.sh')\n",
    "os.chdir(pwd)"
   ]
  },
  {
   "cell_type": "code",
   "execution_count": null,
   "id": "79f180d3-d852-48c5-8509-7b6b534621c2",
   "metadata": {},
   "outputs": [],
   "source": []
  }
 ],
 "metadata": {
  "kernelspec": {
   "display_name": "vega",
   "language": "python",
   "name": "vega"
  },
  "language_info": {
   "codemirror_mode": {
    "name": "ipython",
    "version": 3
   },
   "file_extension": ".py",
   "mimetype": "text/x-python",
   "name": "python",
   "nbconvert_exporter": "python",
   "pygments_lexer": "ipython3",
   "version": "3.7.12"
  }
 },
 "nbformat": 4,
 "nbformat_minor": 5
}
