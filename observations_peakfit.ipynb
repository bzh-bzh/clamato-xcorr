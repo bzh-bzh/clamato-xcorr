{
 "cells": [
  {
   "cell_type": "code",
   "execution_count": null,
   "id": "c6aa6f7d-11fa-4df6-b0c4-3a724dc3b73e",
   "metadata": {},
   "outputs": [],
   "source": [
    "import numpy as np\n",
    "import time as time\n",
    "import os\n",
    "import constants\n",
    "\n",
    "# Set up matplotlib and use a nicer set of plot parameters\n",
    "# %config InlineBackend.rc = {}\n",
    "import matplotlib as mpl\n",
    "# mpl.rc('mathtext',fontset='stixsans')\n",
    "# mpl.rc('figure', facecolor=\"white\")\n",
    "#matplotlib.rc_file(\"../../templates/matplotlibrc\")\n",
    "import matplotlib.pyplot as plt\n",
    "#import matplotlib.colors as colors\n",
    "# %matplotlib notebook\n",
    "import scipy.optimize\n",
    "\n",
    "from astropy.cosmology import FlatLambdaCDM\n",
    "from astropy.io import fits\n",
    "from astropy.io import ascii\n",
    "from astropy.table import Table\n",
    "from astropy import units as u\n",
    "from astropy.coordinates import SkyCoord\n",
    "\n",
    "# Define cosmology\n",
    "cosmo = constants.COSMOLOGY\n",
    "\n",
    "PiBin_fil = os.path.join(constants.XCORR_DIR_BASE, 'bins23_pi_0-30hMpc.txt')\n",
    "SigBin_fil = os.path.join(constants.XCORR_DIR_BASE, 'bins10_sigma_0-30hMpc.txt')\n",
    "\n",
    "PiBins0 = ascii.read(PiBin_fil)\n",
    "SigBins0 = ascii.read(SigBin_fil)\n",
    "\n",
    "PiEdges = PiBins0['pi_edges'].data\n",
    "SigEdges = SigBins0['sigma_edges'].data\n",
    "\n",
    "# Convert bin boundaries from Mpc/h to Mpc\n",
    "#PiEdges  = PiEdges/(len(PiEdges)*[cosmo.h])\n",
    "#SigEdges = SigEdges/(len(SigEdges)*[cosmo.h])\n",
    "\n",
    "print('Pi bin edges in Mpc:')\n",
    "print(PiEdges)\n",
    "print('Sigma bin edges in Mpc:')\n",
    "print(SigEdges)\n",
    "\n",
    "PiBound = (min(PiEdges), max(PiEdges) )"
   ]
  },
  {
   "cell_type": "code",
   "execution_count": null,
   "id": "f46da3cf-2008-4f5b-a8b3-88f6b23547a7",
   "metadata": {},
   "outputs": [],
   "source": [
    "OBS_DIR = os.path.join(constants.XCORR_DIR_BASE, 'obs')\n",
    "\n",
    "XCorr_3d=np.load(os.path.join(OBS_DIR, f\"xcorr_3dhst_globalf_{constants.DATA_VERSION}.npy\"))\n",
    "XCorrPlot_3d = np.transpose(XCorr_3d)\n",
    "    \n",
    "XCorr_zD = np.load(os.path.join(OBS_DIR, f\"xcorr_zDeep_globalf_{constants.DATA_VERSION}.npy\"))\n",
    "XCorrPlot_zD = np.transpose(XCorr_zD)\n",
    "    \n",
    "XCorr_mosdef = np.load(os.path.join(OBS_DIR, f\"xcorr_mosdef_globalf_{constants.DATA_VERSION}.npy\"))\n",
    "XCorrPlot_mosdef = np.transpose(XCorr_mosdef)\n",
    "    \n",
    "XCorr_vuds = np.load(os.path.join(OBS_DIR, f\"xcorr_vuds_globalf_{constants.DATA_VERSION}.npy\"))\n",
    "XCorrPlot_vuds = np.transpose(XCorr_vuds)\n",
    "\n",
    "XCorr_clamato = np.load(os.path.join(OBS_DIR, f\"xcorr_clamato_globalf_{constants.DATA_VERSION}.npy\"))\n",
    "XCorrPlot_clamato = np.transpose(XCorr_clamato)\n",
    "\n",
    "XCorr_all = np.load(os.path.join(OBS_DIR, f\"xcorr_all_globalf_{constants.DATA_VERSION}.npy\"))\n",
    "XCorrPlot_all = np.transpose(XCorr_all)\n",
    "\n",
    "print(XCorr_all.shape)\n",
    "\n",
    "xcorr_list = [XCorr_3d, XCorr_zD, XCorr_mosdef, XCorr_vuds, XCorr_clamato]\n",
    "titles = ['3DHST', 'zDeep', 'MOSDEF', 'VUDS', 'CLAMATO']"
   ]
  },
  {
   "cell_type": "code",
   "execution_count": null,
   "id": "e4eb15a4-c116-4edb-aa81-b260449973ea",
   "metadata": {},
   "outputs": [],
   "source": [
    "COVAR_DIR = os.path.join(constants.XCORR_DIR_BASE, 'bootstrap')\n",
    "\n",
    "Covar_zdeep = np.load(os.path.join(COVAR_DIR, f'covar_zDeep_n7200_{constants.DATA_VERSION}.npy'))\n",
    "Covar_vuds  = np.load(os.path.join(COVAR_DIR, f'covar_VUDS_n7200_{constants.DATA_VERSION}.npy'))\n",
    "Covar_clamato = np.load(os.path.join(COVAR_DIR, f'covar_CLAMATO_n7200_{constants.DATA_VERSION}.npy'))\n",
    "Covar_mosdef = np.load(os.path.join(COVAR_DIR, f'covar_MOSDEF_n7200_{constants.DATA_VERSION}.npy'))\n",
    "Covar_3dhst = np.load(os.path.join(COVAR_DIR, f'covar_3DHST_n7200_{constants.DATA_VERSION}.npy'))\n",
    "\n",
    "covar_list = [Covar_3dhst, Covar_zdeep, Covar_mosdef, Covar_vuds, Covar_clamato]"
   ]
  },
  {
   "cell_type": "code",
   "execution_count": null,
   "id": "414f57d3-6c68-46ab-90df-74f12c7991fe",
   "metadata": {},
   "outputs": [],
   "source": [
    "# Reduce covar in adding.\n",
    "def reduce_covar(covar):\n",
    "    parallel_size = XCorr_all.shape[1]\n",
    "    if covar.ndim != 4:\n",
    "        if covar.shape[0] == XCorr_all.size:\n",
    "            covar = covar.reshape(*XCorr_all.shape, *XCorr_all.shape)\n",
    "        else:\n",
    "            raise RuntimeError\n",
    "    return np.sum(covar, axis=(0, 2))\n",
    "    \n",
    "reduced_covar_list = []\n",
    "for covar in covar_list:\n",
    "    reduced_covar_list.append(reduce_covar(np.copy(covar)))\n",
    "    assert np.allclose(reduced_covar_list[-1], reduced_covar_list[-1].T)"
   ]
  },
  {
   "cell_type": "code",
   "execution_count": null,
   "id": "7d2e5547-6d62-4030-81b4-821144b932cc",
   "metadata": {},
   "outputs": [],
   "source": [
    "def peak(x, *p):\n",
    "    A, mu, C = p\n",
    "    sigma = 23\n",
    "    dist = np.minimum(np.abs(x - (mu + sigma)), np.abs(x - (mu - sigma)))\n",
    "    dist[x > mu + sigma] = 0\n",
    "    dist[x < mu - sigma] = 0\n",
    "    return A * dist**3 + C\n",
    "    #return A*np.exp(-(x-mu)**2/(2.*sigma**2)) + C"
   ]
  },
  {
   "cell_type": "code",
   "execution_count": null,
   "id": "c2076e43-ee91-464e-8e85-6096c582292a",
   "metadata": {},
   "outputs": [],
   "source": [
    "fig, axes = plt.subplots(2, 3, figsize=(11, 6))\n",
    "\n",
    "for xcorr, covar, t, ax in zip(xcorr_list, reduced_covar_list, titles, axes.flatten()):\n",
    "    reduced_xcorr = np.sum(xcorr, axis=0)\n",
    "    ax.errorbar(PiEdges[:-1], reduced_xcorr, yerr=np.diag(covar)**0.5, color='black')\n",
    "    background = np.mean([reduced_xcorr[0], reduced_xcorr[-1]])\n",
    "    fit_coeff, _ = scipy.optimize.curve_fit(peak, PiEdges[:-1], reduced_xcorr, p0=[(np.min(reduced_xcorr) - background) / 23**3, 0, background], sigma=covar)\n",
    "    print(fit_coeff)\n",
    "    ax.plot(PiEdges[:-1], peak(PiEdges[:-1], *fit_coeff), color='red')\n",
    "    ax.set_title(f'{t} delta={-fit_coeff[1]:.2}')"
   ]
  },
  {
   "cell_type": "code",
   "execution_count": null,
   "id": "92833162-5542-4f9b-85b1-5f0e5cc7e487",
   "metadata": {},
   "outputs": [],
   "source": [
    "plt.imshow(reduced_covar_list[4])"
   ]
  },
  {
   "cell_type": "code",
   "execution_count": null,
   "id": "0c63a4c4-ef6f-4141-9396-354d084d3f3e",
   "metadata": {},
   "outputs": [],
   "source": []
  }
 ],
 "metadata": {
  "kernelspec": {
   "display_name": "clamato-xcorr",
   "language": "python",
   "name": "clamato-xcorr"
  },
  "language_info": {
   "codemirror_mode": {
    "name": "ipython",
    "version": 3
   },
   "file_extension": ".py",
   "mimetype": "text/x-python",
   "name": "python",
   "nbconvert_exporter": "python",
   "pygments_lexer": "ipython3",
   "version": "3.6.13"
  }
 },
 "nbformat": 4,
 "nbformat_minor": 5
}
