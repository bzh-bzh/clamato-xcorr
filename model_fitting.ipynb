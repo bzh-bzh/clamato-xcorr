{
 "cells": [
  {
   "cell_type": "markdown",
   "metadata": {},
   "source": [
    "Carry out model fitting for CLAMATO cross-correlation analysis, with Andreu Font's models. We also fit for redshift offsets.\n",
    "\n",
    "This version is for v4 of the cross-correlation measurements and v1 (Nov 2) of the models."
   ]
  },
  {
   "cell_type": "code",
   "execution_count": null,
   "metadata": {},
   "outputs": [],
   "source": [
    "import os\n",
    "import glob\n",
    "\n",
    "import numpy as np\n",
    "from astropy.io import ascii\n",
    "import xcorrmodel\n",
    "import constants\n",
    "\n",
    "# Set up matplotlib and use a nicer set of plot parameters\n",
    "%config InlineBackend.rc = {}\n",
    "import matplotlib as mpl\n",
    "mpl.rc('mathtext',fontset='stixsans')\n",
    "mpl.rc('figure', facecolor=\"white\")\n",
    "#matplotlib.rc_file(\"../../templates/matplotlibrc\")\n",
    "import matplotlib.pyplot as plt\n",
    "#import matplotlib.colors as colors\n",
    "# %matplotlib notebook\n",
    "\n",
    "modeldir = os.path.join(constants.MODEL_DIR_BASE, 'model_grid_v1')\n",
    "\n",
    "# Set up the grid to loop over \n",
    "deltaz_grid = np.linspace(-4., 4., num=81)\n",
    "n_deltaz = len(deltaz_grid)\n",
    "\n",
    "# Read bin edges\n",
    "PiBin_fil = os.path.join(constants.XCORR_DIR_BASE, 'bins23_pi_0-30hMpc.txt')\n",
    "SigBin_fil = os.path.join(constants.XCORR_DIR_BASE, 'bins10_sigma_0-30hMpc.txt')\n",
    "\n",
    "PiBins0 = ascii.read(PiBin_fil)\n",
    "SigBins0 = ascii.read(SigBin_fil)\n",
    "\n",
    "PiEdges = PiBins0['pi_edges'].data\n",
    "SigEdges = SigBins0['sigma_edges'].data\n",
    "\n",
    "SigEdgesVec, PiEdgesVec = np.meshgrid(SigEdges, PiEdges)\n",
    "\n",
    "cosmo = constants.COSMOLOGY\n",
    "\n",
    "SigEdgesPlot = SigEdgesVec/(np.ones(np.shape(SigEdgesVec))*[cosmo.h])\n",
    "PiEdgesPlot = PiEdgesVec / (np.ones(np.shape(PiEdgesVec))*[cosmo.h])\n"
   ]
  },
  {
   "cell_type": "markdown",
   "metadata": {},
   "source": [
    "Read in all the models. This step and the rebinning step should only be done once and then subsequently read in from the saved file."
   ]
  },
  {
   "cell_type": "code",
   "execution_count": null,
   "metadata": {},
   "outputs": [],
   "source": [
    "read_model = ascii.read(os.path.join(modeldir, 'model_list_v1.txt'),names=['modelfil'],\n",
    "                        format='no_header',guess=False)\n",
    "\n",
    "modelfils = read_model['modelfil'].data\n",
    "\n",
    "nmodels_raw = len(modelfils)\n",
    "nmodels = nmodels_raw * n_deltaz\n",
    "\n",
    "model_arr = []\n",
    "for m in modelfils:\n",
    "    #print(\"Reading\"+m)\n",
    "    model_arr.append(xcorrmodel.XCorrModel(os.path.join(modeldir, m)))\n",
    "\n",
    "np.save(os.path.join(modeldir, 'model_grid_v1.npy'), model_arr)"
   ]
  },
  {
   "cell_type": "markdown",
   "metadata": {},
   "source": [
    "model_arr = np.load(os.path.join(modeldir, 'model_grid_v1.npy')"
   ]
  },
  {
   "cell_type": "markdown",
   "metadata": {},
   "source": [
    "Generate rebinning indices for our desired set of delta_z"
   ]
  },
  {
   "cell_type": "code",
   "execution_count": null,
   "metadata": {},
   "outputs": [],
   "source": [
    "\n",
    "# Get model sigma and pi bins\n",
    "PiModel = model_arr[0].rp\n",
    "SigModel = model_arr[1].rt\n",
    "\n",
    "index_vector = []\n",
    "\n",
    "for ztmp in deltaz_grid:\n",
    "    index_vector.append(xcorrmodel.rebin_model_to_xcorr(ztmp, SigModel, PiModel, \n",
    "                            SigEdges, PiEdges,verbose=False))\n",
    "\n",
    "np.save(os.path.join(modeldir, 'rebin_v1_to_sig10_pi23.npy'), index_vector)"
   ]
  },
  {
   "cell_type": "code",
   "execution_count": null,
   "metadata": {},
   "outputs": [],
   "source": [
    "# Make sure for every dz offset we have at least one model bin for every observed bin.\n",
    "for i in index_vector:\n",
    "    for j in i:\n",
    "        assert len(j) > 0"
   ]
  },
  {
   "cell_type": "markdown",
   "metadata": {},
   "source": [
    "index_vector = np.load(os.path.join(modeldir, 'rebin_v0_to_sig10_pi23.npy'))"
   ]
  },
  {
   "cell_type": "markdown",
   "metadata": {},
   "source": [
    "Define a couple of methods for fitting the grid of models, and also to plot the results"
   ]
  },
  {
   "cell_type": "code",
   "execution_count": null,
   "metadata": {},
   "outputs": [],
   "source": [
    "def fit_lotsa_models(xcorr_in, invcov_in, model_arr, rebin_indices, deltaz_grid, \n",
    "               survey_str = \"\"):\n",
    "    \"\"\"Method to evaluate a grid of linear cross-correlation models w.r.t. an input \n",
    "    observed x-corr and corresponding inverse covariance. The rebin_indices (and \n",
    "    corresponding delta_z values) are used to map from the model bins to the output bins.\n",
    "    \n",
    "    XCorr_in and InvCov_in should already flattened on input\"\"\"\n",
    "    nmodels_raw = len(model_arr)\n",
    "    n_deltaz    = len(rebin_indices)\n",
    "    nmodels = nmodels_raw * n_deltaz\n",
    "\n",
    "    dtype =[('bias', 'f8'), ('sig_z', 'f8'), ('delta_z', 'f8'), \n",
    "            ('chi_sq', 'f8'), ('survey', 'U10'),('filname','U200')]\n",
    "\n",
    "    fitresults_out = np.empty(nmodels, dtype=dtype)\n",
    "    ctr = 0\n",
    "    \n",
    "    XCorrFlat = xcorr_in\n",
    "    InvCov = invcov_in\n",
    "    \n",
    "    for dz_tmp, indices in zip(deltaz_grid, rebin_indices):\n",
    "        for modeltmp in model_arr:\n",
    "            modeltmp2d = modeltmp.rebin2d(indices, SigEdges, PiEdges)\n",
    "            modeltmpflat = modeltmp2d.reshape(modeltmp2d.size)\n",
    "            DeltaVec = XCorrFlat-modeltmpflat\n",
    "            chisq_tmp = np.dot(DeltaVec.transpose(), np.dot(InvCov, DeltaVec))\n",
    "            fitresults_out[ctr] = (modeltmp.bias, modeltmp.sig_z, dz_tmp, \n",
    "                               chisq_tmp, survey_str,modeltmp.modelfil)\n",
    "            ctr = ctr + 1\n",
    "    return fitresults_out\n",
    "\n",
    "def plot_model_w_data(ModelFil, XCorr_obs, delta_z=0., \n",
    "                      survey_title=\"\", model_title=\"\",\n",
    "                      SigEdgesfil='bins23_pi_0-30hMpc.txt', \n",
    "                      PiEdgesfil='bins10_sigma_0-30hMpc.txt', SigMin = 0., SigMax = 30.,\n",
    "                      PiMin = -30., PiMax = 30.):\n",
    "\n",
    "    PiBins0 = ascii.read(PiBin_fil)\n",
    "    SigBins0 = ascii.read(SigBin_fil)\n",
    "\n",
    "    PiEdges = PiBins0['pi_edges'].data\n",
    "    SigEdges = SigBins0['sigma_edges'].data\n",
    "\n",
    "    SigEdgesVec, PiEdgesVec = np.meshgrid(SigEdges, PiEdges)\n",
    "\n",
    "    SigEdgesPlot = SigEdgesVec / (np.ones(np.shape(SigEdgesVec))*[cosmo.h])\n",
    "    PiEdgesPlot = PiEdgesVec / (np.ones(np.shape(PiEdgesVec))*[cosmo.h])\n",
    "\n",
    "    XModelPlot = np.transpose(xcorrmodel.xcorr_model_binned(ModelFil,SigEdges, \n",
    "                                                        PiEdges, delta_z=delta_z))\n",
    "    \n",
    "    # Verify that the model is now in the same shape as the observed (which should be in the \n",
    "    # 'original' shape)\n",
    "    XCorrPlot = np.transpose(XCorr_obs)\n",
    "    if not np.array_equal(np.shape(XModelPlot),np.shape(XCorrPlot)):\n",
    "        if np.array_equal(np.shape(np.transpose(XCorrPlot)),np.shape(XModelPlot)):\n",
    "            XCorrPlot = np.transpose(XCorrPlot)\n",
    "        else:\n",
    "            print('Input XCorr array not compatible with model array!')\n",
    "    \n",
    "    fig, (ax1, ax2) = plt.subplots(1,2,figsize=(5,5))\n",
    "                            \n",
    "    ax1.pcolormesh(SigEdgesPlot, PiEdgesPlot, XCorrPlot,cmap='jet_r',vmin=-0.2, vmax=0.1 )\n",
    "    ax1.set_aspect('equal')\n",
    "    ax1.set_xlim(0., SigMax)\n",
    "    ax1.set_ylim(PiMin, PiMax)\n",
    "    ax1.set_xlabel(r'$\\sigma\\; (\\mathrm{cMpc})$')\n",
    "    ax1.set_ylabel(r'$\\pi\\; (\\mathrm{cMpc})$')\n",
    "    ax1.set_title(survey_title,fontsize=10)\n",
    "    \n",
    "    ax2.pcolormesh(SigEdgesPlot, PiEdgesPlot, XModelPlot,cmap='jet_r',vmin=-0.2, vmax=0.1 )\n",
    "    ax2.set_aspect('equal')\n",
    "    ax2.set_xlim(SigMin, SigMax)\n",
    "    ax2.set_ylim(PiMin, PiMax)\n",
    "    ax2.set_xlabel(r'$\\sigma\\; (\\mathrm{cMpc})$')\n",
    "    ax2.set_title(model_title,fontsize=10)\n",
    "    \n",
    "    plt.show()\n",
    "\n",
    "def fitmodel_and_plotmin(survey_str, xcorr_fil=None, covar_fil=None, use_raw_covar=False):\n",
    "    \"\"\" Convenience function for plotting an array of models and plotting the min chi-squared.\n",
    "    Parameters such as model_arr, index_vector, deltaz_grid, need to defined globally.\"\"\"\n",
    "    \n",
    "    # read data and covariances\n",
    "    if xcorr_fil == None:\n",
    "        xcorr_fil=\"xcorr_\"+survey_str+f\"_globalf_{constants.DATA_VERSION}.npy\"\n",
    "    print(\"Loading \"+xcorr_fil)\n",
    "    XCorr=np.load(os.path.join(constants.XCORR_DIR_BASE, 'obs', xcorr_fil))\n",
    "    XCorrFlat = XCorr.reshape(XCorr.size)\n",
    "    Nbins = XCorr.size\n",
    "    XCorrPlot = np.transpose(XCorr)\n",
    "    if covar_fil == None:\n",
    "        covar_fil = glob.glob(os.path.join(constants.XCORR_DIR_BASE, 'mock', 'covar', f\"covar_{'raw' if use_raw_covar else ''}mock*_\"+survey_str+f\"_{constants.DATA_VERSION}.npy\"))\n",
    "        assert len(covar_fil) == 1\n",
    "        covar_fil = covar_fil[0]\n",
    "    print(\"Loading \"+covar_fil)\n",
    "    CovTmp = np.load(covar_fil)\n",
    "    # ZERO'ED OUT OFF-DIAGONAL TERMS!!\n",
    "    # Cov = np.diag(np.diag(CovTmp))\n",
    "    Cov = CovTmp\n",
    "\n",
    "    \n",
    "    InvCov = np.linalg.pinv(Cov)\n",
    "\n",
    "    fitresults_out = []\n",
    "    fitresults_out = fit_lotsa_models(XCorrFlat, InvCov, model_arr, index_vector, deltaz_grid, \n",
    "                   survey_str = survey_str)\n",
    "\n",
    "    # Find minimum chi-squared model and plot\n",
    "    ind_min = np.argmin(fitresults_out['chi_sq'])\n",
    "    print(fitresults_out[ind_min])\n",
    "    fitresults_min = fitresults_out[ind_min]\n",
    "    print('Chi-squared = {0:.3f} for {1:d} dof'.format(fitresults_min['chi_sq'], Nbins-4))\n",
    "    zmin = fitresults_out['delta_z'][ind_min]\n",
    "    b_min = fitresults_out['bias'][ind_min]\n",
    "    sig_z_min = fitresults_out['sig_z'][ind_min]\n",
    "\n",
    "    XCorrModel_min = []\n",
    "    for modeltmp in model_arr:\n",
    "        if np.isclose(modeltmp.bias,b_min,rtol=1e-5) and np.isclose(modeltmp.sig_z, sig_z_min):\n",
    "            XCorrModel_min = modeltmp\n",
    "\n",
    "    XFile = XCorrModel_min.modelfil\n",
    "\n",
    "    model_title = r'b={0:.1f}, $\\delta_z$={1:.1f}cMpc, $\\sigma_z$={2:.2f}cMpc'.format(b_min, zmin/cosmo.h, sig_z_min/cosmo.h)\n",
    "    plot_model_w_data(XFile, XCorr,delta_z=zmin,survey_title=survey_str,model_title=model_title)"
   ]
  },
  {
   "cell_type": "code",
   "execution_count": null,
   "metadata": {},
   "outputs": [],
   "source": [
    "fitmodel_and_plotmin('vuds')"
   ]
  },
  {
   "cell_type": "code",
   "execution_count": null,
   "metadata": {},
   "outputs": [],
   "source": [
    "fitmodel_and_plotmin('zDeep')"
   ]
  },
  {
   "cell_type": "code",
   "execution_count": null,
   "metadata": {},
   "outputs": [],
   "source": [
    "fitmodel_and_plotmin('mosdef' )"
   ]
  },
  {
   "cell_type": "code",
   "execution_count": null,
   "metadata": {},
   "outputs": [],
   "source": [
    "fitmodel_and_plotmin(\"clamato\")"
   ]
  },
  {
   "cell_type": "code",
   "execution_count": null,
   "metadata": {},
   "outputs": [],
   "source": [
    "fitmodel_and_plotmin(\"3dhst\")"
   ]
  },
  {
   "cell_type": "code",
   "execution_count": null,
   "metadata": {},
   "outputs": [],
   "source": []
  }
 ],
 "metadata": {
  "kernelspec": {
   "display_name": "NERSC Python",
   "language": "python",
   "name": "python3"
  },
  "language_info": {
   "codemirror_mode": {
    "name": "ipython",
    "version": 3
   },
   "file_extension": ".py",
   "mimetype": "text/x-python",
   "name": "python",
   "nbconvert_exporter": "python",
   "pygments_lexer": "ipython3",
   "version": "3.9.7"
  }
 },
 "nbformat": 4,
 "nbformat_minor": 4
}
