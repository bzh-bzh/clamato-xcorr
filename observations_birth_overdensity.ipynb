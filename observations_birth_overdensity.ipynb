{
 "cells": [
  {
   "cell_type": "code",
   "execution_count": null,
   "id": "a6bc0dd4-a340-480b-b666-ed7ccc109717",
   "metadata": {},
   "outputs": [],
   "source": [
    "import sys\n",
    "import os\n",
    "from types import SimpleNamespace\n",
    "\n",
    "import numpy as np\n",
    "import pandas as pd\n",
    "from astropy import units as u\n",
    "from astropy.coordinates import SkyCoord\n",
    "from astropy.coordinates import concatenate as coord_concat\n",
    "from astropy.io import ascii\n",
    "import scipy.ndimage\n",
    "import tqdm\n",
    "%pylab inline\n",
    "\n",
    "import constants\n",
    "import lyafxcorr_kg as xcorr"
   ]
  },
  {
   "cell_type": "code",
   "execution_count": null,
   "id": "88dc413c-ebbb-4515-b7dd-e7fa56492559",
   "metadata": {},
   "outputs": [],
   "source": [
    "cosmo = constants.COSMOLOGY\n",
    "\n",
    "PiBin_fil = os.path.join(constants.XCORR_DIR_BASE, 'bins23_pi_0-30hMpc.txt')\n",
    "SigBin_fil = os.path.join(constants.XCORR_DIR_BASE, 'bins10_sigma_0-30hMpc.txt')\n",
    "\n",
    "PiBins0 = ascii.read(PiBin_fil)\n",
    "SigBins0 = ascii.read(SigBin_fil)\n",
    "\n",
    "PiEdges = PiBins0['pi_edges'].data\n",
    "SigEdges = SigBins0['sigma_edges'].data\n",
    "\n",
    "# Convert bin boundaries from Mpc/h to Mpc\n",
    "PiEdges  = PiEdges/(len(PiEdges)*[cosmo.h])\n",
    "SigEdges = SigEdges/(len(SigEdges)*[cosmo.h])"
   ]
  },
  {
   "cell_type": "code",
   "execution_count": null,
   "id": "e6acd6fd-c28a-416a-9a69-7be4f5f17a49",
   "metadata": {},
   "outputs": [],
   "source": [
    "BIRTH_DIR = '/global/homes/b/bzh/clamato-xcorr/data/birth'\n",
    "\n",
    "os.chdir(BIRTH_DIR)\n",
    "import coord_conversion"
   ]
  },
  {
   "cell_type": "markdown",
   "id": "a4f0207b-efeb-4041-9ea8-fc4ba764d16d",
   "metadata": {},
   "source": [
    "# BIRTH constrained simulation x-corr (within footprint)"
   ]
  },
  {
   "cell_type": "code",
   "execution_count": null,
   "id": "ca6b8b6d-3405-49f8-858c-b37c02ce3898",
   "metadata": {},
   "outputs": [],
   "source": [
    "CLAMATO_FOOTPRINT_RA = (149.89 * u.deg, 150.4 * u.deg)\n",
    "CLAMATO_FOOTPRINT_DEC = (2.09 * u.deg, 2.5 * u.deg)\n",
    "FOOTPRINT_PATH = 'clamato_footprint_mask.npy'\n",
    "\n",
    "if os.path.exists(FOOTPRINT_PATH):\n",
    "    clamato_footprint_mask = np.load(FOOTPRINT_PATH)\n",
    "else:\n",
    "    clamato_footprint_mask = np.zeros_like(coord_conversion.sm_delta)\n",
    "\n",
    "    indices = []\n",
    "    for x in range(0, coord_conversion.sm_delta.shape[0], 3):\n",
    "        for y in range(0, coord_conversion.sm_delta.shape[1], 3):\n",
    "            for z in range(0, coord_conversion.sm_delta.shape[2], 3):\n",
    "                indices.append(((x + 1), (y + 1), (z + 1)))\n",
    "\n",
    "    # indices = [(x, y, z) for x in range(coord_conversion.sm_delta.shape[0]) for y in range(coord_conversion.sm_delta.shape[1]) for z in range(coord_conversion.sm_delta.shape[2])]\n",
    "\n",
    "    for ind in tqdm.tqdm(indices):\n",
    "        x, y, z = ind\n",
    "        coord = coord_conversion.original_pos(*coord_conversion.index2coord(x, y, z))\n",
    "        if (not coord.ra) or (not coord.dec):\n",
    "            print(f'Coordinate for ({x}, {y}, {z}), does not have RA or DEC; skipping.')\n",
    "            continue\n",
    "        if (2.05 <= coord.distance <= 2.55\n",
    "            and CLAMATO_FOOTPRINT_RA[0] <= coord.ra <= CLAMATO_FOOTPRINT_RA[1] \n",
    "            and CLAMATO_FOOTPRINT_DEC[0] <= coord.dec <= CLAMATO_FOOTPRINT_DEC[1]):\n",
    "            clamato_footprint_mask[x-1:x+2, y-1:y+2, z-1:z+2] = 1\n",
    "    np.save(FOOTPRINT_PATH, clamato_footprint_mask)\n",
    "                \n",
    "print(f'Mask covers {np.sum(clamato_footprint_mask) / clamato_footprint_mask.size * 100}% of volume.')"
   ]
  },
  {
   "cell_type": "code",
   "execution_count": null,
   "id": "e24d0d25-98e0-45c2-a08a-dd41e559c78b",
   "metadata": {},
   "outputs": [],
   "source": [
    "plt.figure(figsize=(10,10))\n",
    "z = 126\n",
    "plt.imshow(clamato_footprint_mask[z, :, :])"
   ]
  },
  {
   "cell_type": "code",
   "execution_count": null,
   "id": "7dd1a461-f72b-46b8-b887-3fe82e16a74d",
   "metadata": {},
   "outputs": [],
   "source": [
    "redshift_mask = np.where(clamato_footprint_mask[:, 128, 128])[0]\n",
    "print(len(redshift_mask))"
   ]
  },
  {
   "cell_type": "code",
   "execution_count": null,
   "id": "876f08a3-1980-48b0-9a86-e3caa544d3b1",
   "metadata": {},
   "outputs": [],
   "source": [
    "stamp_size = (np.argwhere(clamato_footprint_mask[126, :, 128]).size, np.argwhere(clamato_footprint_mask[126, 128, :]).size)\n",
    "print(stamp_size)"
   ]
  },
  {
   "cell_type": "code",
   "execution_count": null,
   "id": "24980dcd-3b38-42f0-8578-5b389a6065c8",
   "metadata": {},
   "outputs": [],
   "source": [
    "print(np.argwhere(clamato_footprint_mask[126, :, 128]))\n",
    "print(np.argwhere(clamato_footprint_mask[126, 128, :]))"
   ]
  },
  {
   "cell_type": "code",
   "execution_count": null,
   "id": "6e32cdae-bf24-4838-b957-ee6c3396ef9d",
   "metadata": {},
   "outputs": [],
   "source": [
    "clamato_footprint_bounds = [(np.argwhere(clamato_footprint_mask[:, 128, 128]).min(), np.argwhere(clamato_footprint_mask[:, 128, 128]).max()),\n",
    "                            (np.argwhere(clamato_footprint_mask[126, :, 128]).min(), np.argwhere(clamato_footprint_mask[126, :, 128]).max()), \n",
    "                            (np.argwhere(clamato_footprint_mask[126, 128, :]).min(), np.argwhere(clamato_footprint_mask[126, 128, :]).max())]\n",
    "print(clamato_footprint_bounds)"
   ]
  },
  {
   "cell_type": "code",
   "execution_count": null,
   "id": "46f6061a-ad4b-411e-900e-3c0381377f1f",
   "metadata": {},
   "outputs": [],
   "source": [
    "plt.imshow(clamato_footprint_mask[z, :, :])\n",
    "plt.axvline(123, color='red')\n",
    "plt.axhline(120, color='red')"
   ]
  },
  {
   "cell_type": "code",
   "execution_count": null,
   "id": "62a8fac0-b419-49cc-a9f9-2c95dcb9f487",
   "metadata": {},
   "outputs": [],
   "source": [
    "clamato_footprint_sm_delta = np.mean(coord_conversion.sm_delta[clamato_footprint_mask.astype(np.bool)])\n",
    "# volume_footprint_sm_delta = np.mean(coord_conversion.sm_delta[~clamato_footprint_mask.astype(np.bool)])\n",
    "print(clamato_footprint_sm_delta)\n",
    "# print(volume_footprint_sm_delta)"
   ]
  },
  {
   "cell_type": "code",
   "execution_count": null,
   "id": "3f4a5887-498c-4a47-8bb1-7ccf43a93df0",
   "metadata": {},
   "outputs": [],
   "source": [
    "bootstrap_iter = 100000\n",
    "null_means = []\n",
    "max_stamp = None\n",
    "max_mean = -np.inf\n",
    "np.random.seed(42)\n",
    "for _ in tqdm.tqdm(range(bootstrap_iter)):\n",
    "    stamp_corner = (np.random.randint(0, coord_conversion.sm_delta.shape[1] - stamp_size[0]), np.random.randint(0, coord_conversion.sm_delta.shape[2] - stamp_size[1]))\n",
    "    null_means.append(np.mean(coord_conversion.sm_delta[redshift_mask, stamp_corner[0]:stamp_corner[0] + stamp_size[0], stamp_corner[1]:stamp_corner[1] + stamp_size[1]]))\n",
    "    if null_means[-1] > max_mean:\n",
    "        max_stamp = stamp_corner\n",
    "        max_mean = null_means[-1]"
   ]
  },
  {
   "cell_type": "code",
   "execution_count": null,
   "id": "d68c9309-1cf7-472e-8c54-d7caece6e902",
   "metadata": {},
   "outputs": [],
   "source": [
    "plt.hist(null_means, bins=20, color='black');\n",
    "plt.axvline(clamato_footprint_sm_delta, color='red')\n",
    "print((clamato_footprint_sm_delta - np.mean(null_means)) / np.std(null_means))"
   ]
  },
  {
   "cell_type": "code",
   "execution_count": null,
   "id": "acda7a1f-4f6e-4baa-9ae2-1a746d6ec67f",
   "metadata": {},
   "outputs": [],
   "source": [
    "print(max_stamp, max_mean)"
   ]
  },
  {
   "cell_type": "code",
   "execution_count": null,
   "id": "d053f0a1-93a9-4b87-b7c7-69f4bb9d1db4",
   "metadata": {},
   "outputs": [],
   "source": [
    "def cut_out_stamp(stamp):\n",
    "    max_stamp_sm_delta = np.copy(coord_conversion.sm_delta)\n",
    "    mask = np.zeros_like(max_stamp_sm_delta).astype(bool)\n",
    "    mask[redshift_mask, stamp[0]:stamp[0] + stamp_size[0], stamp[1]:stamp[1] + stamp_size[1]] = True\n",
    "    return max_stamp_sm_delta[mask].reshape(len(redshift_mask), *stamp_size)\n",
    "\n",
    "# print(max_stamp_sm_delta.shape)\n",
    "fig, axes = plt.subplots(1, 2, figsize=(2, 10))\n",
    "axes[0].imshow(cut_out_stamp(max_stamp)[:, :, 7])\n",
    "axes[1].imshow(cut_out_stamp((120, 123))[:, :, 7])"
   ]
  },
  {
   "cell_type": "code",
   "execution_count": null,
   "id": "6fe3ef34-d617-428f-965e-59f494cb2f6d",
   "metadata": {},
   "outputs": [],
   "source": [
    "birth_halo = pd.read_csv('halos_00103.0.ascii', header=0, comment='#', delimiter=' ')\n",
    "birth_halo = np.array([birth_halo.y, birth_halo.x, birth_halo.z]).T\n",
    "# Convert into pixel coords\n",
    "birth_halo /= coord_conversion.dl"
   ]
  },
  {
   "cell_type": "code",
   "execution_count": null,
   "id": "7c2a80a0-2e31-4280-b3f2-15e433efc29a",
   "metadata": {},
   "outputs": [],
   "source": [
    "plt.figure(figsize=(8, 8))\n",
    "plt.imshow(coord_conversion.sm_delta[128, :, :].T)\n",
    "masked_halo_plt = birth_halo[np.logical_and(birth_halo[:, 0] >= 124, birth_halo[:, 0] <= 132)]\n",
    "plt.scatter(masked_halo_plt[:, 1], masked_halo_plt[:, 2], color='white', s=1)"
   ]
  },
  {
   "cell_type": "code",
   "execution_count": null,
   "id": "bfea2fdf-c68c-4195-8bc1-cf4313e2671c",
   "metadata": {},
   "outputs": [],
   "source": [
    "fudge_pix = 25\n",
    "\n",
    "clamato_footprint_halo = np.array([c for c in birth_halo \n",
    "                                   if clamato_footprint_bounds[0][0] <= c[0] < clamato_footprint_bounds[0][1]\n",
    "                                   and clamato_footprint_bounds[1][0] - fudge_pix <= c[1] < clamato_footprint_bounds[1][1] + fudge_pix\n",
    "                                   and clamato_footprint_bounds[2][0] - fudge_pix <= c[2] < clamato_footprint_bounds[2][1] + fudge_pix])"
   ]
  },
  {
   "cell_type": "code",
   "execution_count": null,
   "id": "e8fc14bf-9b08-44ea-9f7a-efec79949156",
   "metadata": {},
   "outputs": [],
   "source": [
    "print(len(clamato_footprint_halo), len(birth_halo))"
   ]
  },
  {
   "cell_type": "code",
   "execution_count": null,
   "id": "40e5ee88-628f-4900-97b5-c5c0d06139c1",
   "metadata": {},
   "outputs": [],
   "source": [
    "def create_mock_lyapix_galcoord(lya_delta_dens, lya_mask, halo_coord_pix):\n",
    "    lya_mask = lya_mask.astype(bool)\n",
    "    lya_grid_pix = np.indices(lya_delta_dens.shape).transpose(1,2,3,0)\n",
    "    lya_delta_masked = lya_delta_dens[lya_mask].flatten()\n",
    "    lya_grid_masked = lya_grid_pix[lya_mask, :]\n",
    "    assert lya_grid_masked.shape[-1] == 3 and lya_delta_masked.shape[0] == lya_grid_masked.shape[0]\n",
    "    lyapix = SimpleNamespace()\n",
    "    #lyapix.coord = coord_concat([coord_conversion.original_pos(*coord_conversion.index2coord(x, y, z)) for (x, y, z) in tqdm.tqdm(lya_grid_masked)])\n",
    "    lyapix.coord = coord_conversion.original_pos(*coord_conversion.index2coord(lya_grid_masked[:, 0], lya_grid_masked[:, 1], lya_grid_masked[:, 2]))\n",
    "    lyapix.coord = SkyCoord(ra=lyapix.coord.ra, dec=lyapix.coord.dec, distance=cosmo.comoving_distance(np.array(lyapix.coord.distance)))\n",
    "    lyapix.w = np.ones_like(lya_delta_masked)\n",
    "    lya_flux = np.exp(-1 * 0.226 * (lya_delta_masked + 1)**1.5)\n",
    "    lyapix.delta = (lya_flux / np.mean(lya_flux)) - 1\n",
    "    lyapix.npix = len(lya_delta_masked)\n",
    "    \n",
    "    gal_coord = coord_concat([coord_conversion.original_pos(*coord_conversion.index2coord(x, y, z)) for (x, y, z) in halo_coord_pix])\n",
    "    gal_coord = SkyCoord(ra=gal_coord.ra, dec=gal_coord.dec, distance=cosmo.comoving_distance(np.array(gal_coord.distance)))\n",
    "    return lyapix, gal_coord"
   ]
  },
  {
   "cell_type": "code",
   "execution_count": null,
   "id": "2c3ce932-2385-4218-86d5-a289b0a5454a",
   "metadata": {},
   "outputs": [],
   "source": [
    "birth_lyapix, birth_coord = create_mock_lyapix_galcoord(coord_conversion.sm_delta, clamato_footprint_mask, clamato_footprint_halo)\n",
    "xcorr_birth, _ = xcorr.xcorr_gal_lya(birth_coord, birth_lyapix, SigEdges, PiEdges, cosmo=constants.COSMOLOGY)"
   ]
  },
  {
   "cell_type": "markdown",
   "id": "5761a21a-7ee3-4979-9ad5-b3de206f1909",
   "metadata": {},
   "source": [
    "# BIRTH unconstrained sim x-corr\n",
    "\n",
    "Compute x-corr over the whole volume, but limited in the survey's z-range. Since the sim is equally unconstrained everywhere."
   ]
  },
  {
   "cell_type": "code",
   "execution_count": null,
   "id": "09f5d21f-efdf-4712-9b37-e136df866d1c",
   "metadata": {},
   "outputs": [],
   "source": [
    "unconstrained_sm_delta = np.fromfile('random102_256_z2p3.dat', dtype=np.single).reshape(256, 256, 256)\n",
    "unconstrained_sm_delta = scipy.ndimage.gaussian_filter(unconstrained_sm_delta, sigma=1)\n",
    "unconstrained_halo = pd.read_csv('halos_random102_256_z2p3.ascii', header=0, comment='#', delimiter=' ')\n",
    "unconstrained_halo = np.array([unconstrained_halo.x, unconstrained_halo.y, unconstrained_halo.z]).T\n",
    "# Convert into pixel coords\n",
    "unconstrained_halo /= coord_conversion.dl"
   ]
  },
  {
   "cell_type": "code",
   "execution_count": null,
   "id": "e2022672-e4aa-4db6-ac68-2e28f5c60cf3",
   "metadata": {},
   "outputs": [],
   "source": [
    "plt.figure(figsize=(8, 158))\n",
    "plt.imshow(unconstrained_sm_delta[128, :, :].T)\n",
    "masked_halo_plt = unconstrained_halo[np.logical_and(unconstrained_halo[:, 0] >= 124, unconstrained_halo[:, 0] <= 132)]\n",
    "plt.scatter(masked_halo_plt[:, 1], masked_halo_plt[:, 2], color='white', s=1)"
   ]
  },
  {
   "cell_type": "code",
   "execution_count": null,
   "id": "9b1db385-5793-4b9b-b0d7-6361acde24c7",
   "metadata": {},
   "outputs": [],
   "source": [
    "if os.path.exists('xcorr_random102.npy'):\n",
    "    xcorr_unconstrained = np.load('xcorr_random102.npy')\n",
    "else:\n",
    "    unconstrained_lyapix, unconstrained_coord = create_mock_lyapix_galcoord(unconstrained_sm_delta, np.ones_like(unconstrained_sm_delta), unconstrained_halo)\n",
    "    xcorr_unconstrained, _ = xcorr.xcorr_gal_lya(unconstrained_coord, unconstrained_lyapix, SigEdges, PiEdges, cosmo=constants.COSMOLOGY)\n",
    "    np.save('xcorr_random102.npy', xcorr_unconstrained.value)"
   ]
  },
  {
   "cell_type": "code",
   "execution_count": null,
   "id": "c603de88-0c6c-45f0-ae53-55cb48c6f086",
   "metadata": {},
   "outputs": [],
   "source": [
    "X, Y = np.meshgrid(SigEdges, PiEdges)\n",
    "\n",
    "SigMax = 35.\n",
    "PiMin = -40.\n",
    "PiMax = 40.\n",
    "\n",
    "fig, (ax1, ax2) = plt.subplots(1, 2, figsize=(8,14))\n",
    "\n",
    "print(len(X), len(Y), np.shape(xcorr_birth.T))\n",
    "\n",
    "ax1.pcolormesh(X, Y, xcorr_birth.T,cmap='magma_r',vmin=-0.3, vmax=0.1)\n",
    "ax1.set_aspect('equal')\n",
    "ax1.set_xlim(np.min(X), SigMax)\n",
    "ax1.set_ylim(PiMin, PiMax)\n",
    "\n",
    "ax2.pcolormesh(X, Y, xcorr_unconstrained.T,cmap='magma_r',vmin=-0.3, vmax=0.1)\n",
    "ax2.set_aspect('equal')\n",
    "ax2.set_xlim(np.min(X), SigMax)\n",
    "ax2.set_ylim(PiMin, PiMax)"
   ]
  }
 ],
 "metadata": {
  "kernelspec": {
   "display_name": "clamato-xcorr",
   "language": "python",
   "name": "clamato-xcorr"
  },
  "language_info": {
   "codemirror_mode": {
    "name": "ipython",
    "version": 3
   },
   "file_extension": ".py",
   "mimetype": "text/x-python",
   "name": "python",
   "nbconvert_exporter": "python",
   "pygments_lexer": "ipython3",
   "version": "3.6.13"
  }
 },
 "nbformat": 4,
 "nbformat_minor": 5
}
