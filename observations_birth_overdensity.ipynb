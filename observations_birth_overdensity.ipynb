{
 "cells": [
  {
   "cell_type": "code",
   "execution_count": null,
   "id": "a6bc0dd4-a340-480b-b666-ed7ccc109717",
   "metadata": {},
   "outputs": [],
   "source": [
    "import sys\n",
    "import os\n",
    "\n",
    "import numpy as np\n",
    "from astropy import units as u\n",
    "from astropy.coordinates import SkyCoord\n",
    "import tqdm\n",
    "%pylab inline\n",
    "\n",
    "import constants"
   ]
  },
  {
   "cell_type": "code",
   "execution_count": null,
   "id": "e6acd6fd-c28a-416a-9a69-7be4f5f17a49",
   "metadata": {},
   "outputs": [],
   "source": [
    "BIRTH_DIR = '/global/homes/b/bzh/clamato-xcorr/data/birth'\n",
    "\n",
    "os.chdir(BIRTH_DIR)\n",
    "import coord_conversion"
   ]
  },
  {
   "cell_type": "code",
   "execution_count": null,
   "id": "ca6b8b6d-3405-49f8-858c-b37c02ce3898",
   "metadata": {},
   "outputs": [],
   "source": [
    "CLAMATO_FOOTPRINT_RA = (149.89 * u.deg, 150.4 * u.deg)\n",
    "CLAMATO_FOOTPRINT_DEC = (2.09 * u.deg, 2.5 * u.deg)\n",
    "FOOTPRINT_PATH = 'clamato_footprint_mask.npy'\n",
    "\n",
    "if os.path.exists(FOOTPRINT_PATH):\n",
    "    clamato_footprint_mask = np.load(FOOTPRINT_PATH)\n",
    "else:\n",
    "    clamato_footprint_mask = np.zeros_like(coord_conversion.sm_delta)\n",
    "\n",
    "    indices = []\n",
    "    for x in range(0, coord_conversion.sm_delta.shape[0], 3):\n",
    "        for y in range(0, coord_conversion.sm_delta.shape[1], 3):\n",
    "            for z in range(0, coord_conversion.sm_delta.shape[2], 3):\n",
    "                indices.append(((x + 1), (y + 1), (z + 1)))\n",
    "\n",
    "    # indices = [(x, y, z) for x in range(coord_conversion.sm_delta.shape[0]) for y in range(coord_conversion.sm_delta.shape[1]) for z in range(coord_conversion.sm_delta.shape[2])]\n",
    "\n",
    "    for ind in tqdm.tqdm(indices):\n",
    "        x, y, z = ind\n",
    "        coord = coord_conversion.original_pos(*coord_conversion.index2coord(x, y, z))\n",
    "        if (not coord.ra) or (not coord.dec):\n",
    "            print(f'Coordinate for ({x}, {y}, {z}), does not have RA or DEC; skipping.')\n",
    "            continue\n",
    "        if (2.05 <= coord.distance <= 2.55\n",
    "            and CLAMATO_FOOTPRINT_RA[0] <= coord.ra <= CLAMATO_FOOTPRINT_RA[1] \n",
    "            and CLAMATO_FOOTPRINT_DEC[0] <= coord.dec <= CLAMATO_FOOTPRINT_DEC[1]):\n",
    "            clamato_footprint_mask[x-1:x+2, y-1:y+2, z-1:z+2] = 1\n",
    "    np.save(FOOTPRINT_PATH, clamato_footprint_mask)\n",
    "                \n",
    "print(f'Mask covers {np.sum(clamato_footprint_mask) / clamato_footprint_mask.size * 100}% of volume.')"
   ]
  },
  {
   "cell_type": "code",
   "execution_count": null,
   "id": "e24d0d25-98e0-45c2-a08a-dd41e559c78b",
   "metadata": {},
   "outputs": [],
   "source": [
    "plt.figure(figsize=(10,10))\n",
    "z = 126\n",
    "plt.imshow(clamato_footprint_mask[z, :, :])"
   ]
  },
  {
   "cell_type": "code",
   "execution_count": null,
   "id": "7dd1a461-f72b-46b8-b887-3fe82e16a74d",
   "metadata": {},
   "outputs": [],
   "source": [
    "redshift_mask = np.where(clamato_footprint_mask[:, 128, 128])[0]\n",
    "print(len(redshift_mask))"
   ]
  },
  {
   "cell_type": "code",
   "execution_count": null,
   "id": "876f08a3-1980-48b0-9a86-e3caa544d3b1",
   "metadata": {},
   "outputs": [],
   "source": [
    "stamp_size = (np.argwhere(clamato_footprint_mask[126, :, 128]).size, np.argwhere(clamato_footprint_mask[126, 128, :]).size)\n",
    "print(stamp_size)"
   ]
  },
  {
   "cell_type": "code",
   "execution_count": null,
   "id": "24980dcd-3b38-42f0-8578-5b389a6065c8",
   "metadata": {},
   "outputs": [],
   "source": [
    "print(np.argwhere(clamato_footprint_mask[126, :, 128]))\n",
    "print(np.argwhere(clamato_footprint_mask[126, 128, :]))"
   ]
  },
  {
   "cell_type": "code",
   "execution_count": null,
   "id": "46f6061a-ad4b-411e-900e-3c0381377f1f",
   "metadata": {},
   "outputs": [],
   "source": [
    "plt.imshow(clamato_footprint_mask[z, :, :])\n",
    "plt.axvline(123, color='red')\n",
    "plt.axhline(120, color='red')"
   ]
  },
  {
   "cell_type": "code",
   "execution_count": null,
   "id": "62a8fac0-b419-49cc-a9f9-2c95dcb9f487",
   "metadata": {},
   "outputs": [],
   "source": [
    "clamato_footprint_sm_delta = np.mean(coord_conversion.sm_delta[clamato_footprint_mask.astype(np.bool)])\n",
    "# volume_footprint_sm_delta = np.mean(coord_conversion.sm_delta[~clamato_footprint_mask.astype(np.bool)])\n",
    "print(clamato_footprint_sm_delta)\n",
    "# print(volume_footprint_sm_delta)"
   ]
  },
  {
   "cell_type": "code",
   "execution_count": null,
   "id": "3f4a5887-498c-4a47-8bb1-7ccf43a93df0",
   "metadata": {},
   "outputs": [],
   "source": [
    "bootstrap_iter = 100000\n",
    "null_means = []\n",
    "max_stamp = None\n",
    "max_mean = -np.inf\n",
    "np.random.seed(42)\n",
    "for _ in tqdm.tqdm(range(bootstrap_iter)):\n",
    "    stamp_corner = (np.random.randint(0, coord_conversion.sm_delta.shape[1] - stamp_size[0]), np.random.randint(0, coord_conversion.sm_delta.shape[2] - stamp_size[1]))\n",
    "    null_means.append(np.mean(coord_conversion.sm_delta[redshift_mask, stamp_corner[0]:stamp_corner[0] + stamp_size[0], stamp_corner[1]:stamp_corner[1] + stamp_size[1]]))\n",
    "    if null_means[-1] > max_mean:\n",
    "        max_stamp = stamp_corner\n",
    "        max_mean = null_means[-1]"
   ]
  },
  {
   "cell_type": "code",
   "execution_count": null,
   "id": "d68c9309-1cf7-472e-8c54-d7caece6e902",
   "metadata": {},
   "outputs": [],
   "source": [
    "plt.hist(null_means, bins=20, color='black');\n",
    "plt.axvline(clamato_footprint_sm_delta, color='red')\n",
    "print((clamato_footprint_sm_delta - np.mean(null_means)) / np.std(null_means))"
   ]
  },
  {
   "cell_type": "code",
   "execution_count": null,
   "id": "acda7a1f-4f6e-4baa-9ae2-1a746d6ec67f",
   "metadata": {},
   "outputs": [],
   "source": [
    "print(max_stamp, max_mean)"
   ]
  },
  {
   "cell_type": "code",
   "execution_count": null,
   "id": "d053f0a1-93a9-4b87-b7c7-69f4bb9d1db4",
   "metadata": {},
   "outputs": [],
   "source": [
    "def cut_out_stamp(stamp):\n",
    "    max_stamp_sm_delta = np.copy(coord_conversion.sm_delta)\n",
    "    mask = np.zeros_like(max_stamp_sm_delta).astype(bool)\n",
    "    mask[redshift_mask, stamp[0]:stamp[0] + stamp_size[0], stamp[1]:stamp[1] + stamp_size[1]] = True\n",
    "    return max_stamp_sm_delta[mask].reshape(len(redshift_mask), *stamp_size)\n",
    "\n",
    "# print(max_stamp_sm_delta.shape)\n",
    "fig, axes = plt.subplots(1, 2, figsize=(2, 10))\n",
    "axes[0].imshow(cut_out_stamp(max_stamp)[:, :, 7])\n",
    "axes[1].imshow(cut_out_stamp((120, 123))[:, :, 7])"
   ]
  },
  {
   "cell_type": "code",
   "execution_count": null,
   "id": "aa2d3cee-6aaf-4ba2-b73a-f62c7cb2f990",
   "metadata": {},
   "outputs": [],
   "source": [
    "mask.shape"
   ]
  },
  {
   "cell_type": "code",
   "execution_count": null,
   "id": "a17616bd-0c4d-4f7d-a55e-e99005cf590f",
   "metadata": {},
   "outputs": [],
   "source": []
  }
 ],
 "metadata": {
  "kernelspec": {
   "display_name": "clamato-xcorr",
   "language": "python",
   "name": "clamato-xcorr"
  },
  "language_info": {
   "codemirror_mode": {
    "name": "ipython",
    "version": 3
   },
   "file_extension": ".py",
   "mimetype": "text/x-python",
   "name": "python",
   "nbconvert_exporter": "python",
   "pygments_lexer": "ipython3",
   "version": "3.6.13"
  }
 },
 "nbformat": 4,
 "nbformat_minor": 5
}
