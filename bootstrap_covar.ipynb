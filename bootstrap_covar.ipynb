{
 "cells": [
  {
   "cell_type": "markdown",
   "metadata": {},
   "source": [
    "# Estimation of bootstrap covariances for galaxy-forest cross-correlation\n",
    "We randomly resample (with replacement) both the galaxy positios and Ly-a forest pixels.\n",
    "\n",
    "### Read in galaxy positions and forest pixels."
   ]
  },
  {
   "cell_type": "code",
   "execution_count": null,
   "metadata": {},
   "outputs": [],
   "source": [
    "import numpy as np\n",
    "import copy\n",
    "import os\n",
    "import time as time\n",
    "\n",
    "import lyafxcorr_kg as xcorr\n",
    "import constants\n",
    "\n",
    "# Set up matplotlib and use a nicer set of plot parameters\n",
    "%config InlineBackend.rc = {}\n",
    "import matplotlib as mpl\n",
    "mpl.rc('mathtext',fontset='stixsans')\n",
    "mpl.rc('figure', facecolor=\"white\")\n",
    "#matplotlib.rc_file(\"../../templates/matplotlibrc\")\n",
    "import matplotlib.pyplot as plt\n",
    "#import matplotlib.colors as colors\n",
    "%matplotlib inline\n",
    "\n",
    "from astropy.cosmology import FlatLambdaCDM\n",
    "from astropy.io import fits\n",
    "from astropy.io import ascii\n",
    "from astropy.table import Table\n",
    "from astropy import units as u\n",
    "from astropy.coordinates import SkyCoord"
   ]
  },
  {
   "cell_type": "code",
   "execution_count": null,
   "metadata": {},
   "outputs": [],
   "source": [
    "# Define cosmology\n",
    "cosmo = FlatLambdaCDM(H0=70, Om0=0.31)\n",
    "    \n",
    "# Read forest pixels    \n",
    "LyaPix = xcorr.lyapix(os.path.join(constants.CLAMATO_DIR_BASE, \"pixel_radecz_cl2020_v0.bin\"),cosmo=cosmo)\n",
    "\n",
    "print(\"Read in %i Ly-a forest pixels\" % LyaPix.npix)\n",
    "npix = LyaPix.npix\n",
    "\n",
    "# Done with forest pixels. Now read galaxy positions\n",
    "gal = ascii.read(os.path.join(constants.GAL_DIR_BASE, 'cat_galxcorr_cl2020_nonuniq_v0.dat'))\n",
    "#print(gal.columns)\n",
    "\n",
    "gal_3d = gal[gal['source'] == '3DHST']\n",
    "gal_zD = gal[gal['source'] == 'zDEEP']\n",
    "gal_mosdef = gal[gal['source'] == 'MOSDEF']\n",
    "gal_vuds   = gal[gal['source']=='VUDS']\n",
    "gal_clamato=gal[gal['source']=='CLAMATO']\n",
    "\n",
    "print('Read in %i 3D-HST galaxies, %i zCOSMOS-Deep galaxies, %i MOSDEF galaxies,' \n",
    "      '%i VUDS galaxies, %i CLAMATO galaxies' % \n",
    "      (len(gal_3d), len(gal_zD), len(gal_mosdef), len(gal_vuds), len(gal_clamato)) )\n",
    "\n",
    "# Convert to 3D Sky positions\n",
    "Coord_3d     = SkyCoord(ra=gal_3d['ra'], dec=gal_3d['dec'],\n",
    "                  distance=cosmo.comoving_distance(gal_3d['zspec']))\n",
    "Coord_zD     = SkyCoord(ra=gal_zD['ra'], dec=gal_zD['dec'],\n",
    "                   distance=cosmo.comoving_distance(gal_zD['zspec']))\n",
    "Coord_vuds     = SkyCoord(ra=gal_vuds['ra'], dec=gal_vuds['dec'],\n",
    "                   distance=cosmo.comoving_distance(gal_vuds['zspec']))\n",
    "Coord_mosdef = SkyCoord(ra=gal_mosdef['ra'], dec=gal_mosdef['dec'],\n",
    "                   distance=cosmo.comoving_distance(gal_mosdef['zspec']))\n",
    "Coord_clamato = SkyCoord(ra=gal_clamato['ra'], dec=gal_clamato['dec'],\n",
    "                   distance=cosmo.comoving_distance(gal_clamato['zspec']))\n",
    "\n",
    "# Read in bin edges\n",
    "PiBins0 = ascii.read(os.path.join(constants.XCORR_DIR_BASE, 'bins23_pi_0-30hMpc.txt'))\n",
    "SigBins0 = ascii.read(os.path.join(constants.XCORR_DIR_BASE, 'bins10_sigma_0-30hMpc.txt'))\n",
    "\n",
    "PiEdges = PiBins0['pi_edges'].data\n",
    "SigEdges = SigBins0['sigma_edges'].data\n",
    "\n",
    "# Convert bin boundaries from Mpc/h to Mpc\n",
    "PiEdges  = PiEdges/(len(PiEdges)*[cosmo.h])\n",
    "SigEdges = SigEdges/(len(SigEdges)*[cosmo.h])\n",
    "PiBound = (min(PiEdges), max(PiEdges) )"
   ]
  },
  {
   "cell_type": "markdown",
   "metadata": {},
   "source": [
    "### Bootstrap MOSDEF Sample\n",
    "We perform the bootstrap and plot a few resampled cross-correlations as a sanity check."
   ]
  },
  {
   "cell_type": "code",
   "execution_count": null,
   "metadata": {},
   "outputs": [],
   "source": [
    "nsamp=200\n",
    "np.random.seed(seed=11234565)\n",
    "\n",
    "GalCoords = Coord_mosdef\n",
    "ngal = len(GalCoords)\n",
    "\n",
    "# Initialize output array to store all the bootstrap samples\n",
    "XCorrSamples_mosdef = np.empty([len(SigEdges)-1, len(PiEdges)-1, nsamp])\n",
    "\n",
    "# This is the loop over the desired resamples\n",
    "for ii in range(0,nsamp):\n",
    "    if (ii % 5) == 0:\n",
    "        print(\"Iteration #\", ii)\n",
    "    # Make a copy of the pixels and resample\n",
    "    LyaPixTmp = copy.deepcopy(LyaPix)\n",
    "    LyaPixTmp = LyaPixTmp.resample()\n",
    "    # Resample galaxy positions\n",
    "    GalCoordTmp = GalCoords[np.random.choice(ngal,ngal,replace=True)]\n",
    "    XCorrTmp, _ = xcorr.xcorr_gal_lya(GalCoordTmp, LyaPixTmp,SigEdges, PiEdges,\n",
    "                                      cosmo=cosmo,verbose=0)\n",
    "    XCorrSamples_mosdef[:,:,ii] = XCorrTmp"
   ]
  },
  {
   "cell_type": "code",
   "execution_count": null,
   "metadata": {},
   "outputs": [],
   "source": [
    "XCorr1 = np.transpose(XCorrSamples_mosdef[:,:,0])\n",
    "XCorr2 = np.transpose(XCorrSamples_mosdef[:,:,1])\n",
    "XCorr3 = np.transpose(XCorrSamples_mosdef[:,:,2])\n",
    "\n",
    "X, Y = np.meshgrid(SigEdges, PiEdges)\n",
    "\n",
    "SigMax = 25.\n",
    "PiMin = -30.\n",
    "PiMax = 30.\n",
    "\n",
    "fig, (ax1, ax2, ax3)= plt.subplots(1,3, figsize=(14,7))\n",
    "\n",
    "fig.suptitle(\"BootStrap Resamples of MOSDEF Galaxies\", fontsize=20)\n",
    "\n",
    "ax1.pcolormesh(X, Y, XCorr1,cmap='jet_r',vmin=-0.2, vmax=0.1 )\n",
    "ax1.set_aspect('equal')\n",
    "ax1.set_xlim(np.min(X), SigMax)\n",
    "ax1.set_ylim(PiMin, PiMax)\n",
    "ax1.set_xlabel(r'$\\sigma\\; (\\mathrm{cMpc})$')\n",
    "ax1.set_ylabel(r'$\\pi\\; (\\mathrm{cMpc})$')\n",
    "\n",
    "ax2.pcolormesh(X, Y, XCorr2,cmap='jet_r',vmin=-0.2, vmax=0.1 )\n",
    "ax2.set_aspect('equal')\n",
    "ax2.set_xlim(np.min(X), SigMax)\n",
    "ax2.set_ylim(PiMin, PiMax)\n",
    "ax2.set_xlabel(r'$\\sigma\\; (\\mathrm{cMpc})$')\n",
    "ax2.set_ylabel(r'$\\pi\\; (\\mathrm{cMpc})$')\n",
    "\n",
    "pcm=ax3.pcolormesh(X, Y, XCorr3,cmap='jet_r',vmin=-0.2, vmax=0.1 )\n",
    "ax3.set_aspect('equal')\n",
    "ax3.set_xlim(np.min(X), SigMax)\n",
    "ax3.set_ylim(PiMin, PiMax)\n",
    "ax3.set_xlabel(r'$\\sigma\\; (\\mathrm{cMpc})$')\n",
    "ax3.set_ylabel(r'$\\pi\\; (\\mathrm{cMpc})$')\n",
    "\n",
    "fig.colorbar(pcm, ax=ax3)\n",
    "\n",
    "#fig.subplots_adjust(wspace=-0.1)\n",
    "\n",
    "plt.show()"
   ]
  },
  {
   "cell_type": "markdown",
   "metadata": {},
   "source": [
    "Compute the covariance matrix. We compare the diagonal terms with the variance as a sanity check. "
   ]
  },
  {
   "cell_type": "code",
   "execution_count": null,
   "metadata": {},
   "outputs": [],
   "source": [
    "# First, reshape the bootstrap samples so that it has dimensions (nbin, nsamp)\n",
    "XBootReshaped = XCorrSamples_mosdef.reshape(-1, XCorrSamples_mosdef.shape[-1])\n",
    "\n",
    "# Quick test that we can recover the original shape\n",
    "XBootBack = XBootReshaped.reshape(XCorrSamples_mosdef.shape)\n",
    "print(\"We have recovered original shape: \", \n",
    "      np.all(np.isclose(XBootBack, XCorrSamples_mosdef,rtol=1.e-3)))\n",
    "\n",
    "Covar_mosdef = np.cov(XBootReshaped)\n",
    "CovDiag_mosdef = Covar_mosdef.diagonal()\n",
    "\n",
    "# This are the diagonal covariances\n",
    "VarArr= np.var(XCorrSamples_mosdef, axis=2)\n",
    "\n",
    "NVec = np.arange(VarArr.size)\n",
    "\n",
    "\n",
    "fig, ax = plt.subplots()\n",
    "ax.plot(NVec, VarArr.reshape(VarArr.size))\n",
    "ax.plot(NVec, CovDiag_mosdef, color='r')\n",
    "ax.set_ylabel('Variance')\n",
    "ax.set_xlabel('Bin')\n",
    "\n",
    "plt.show()\n",
    "\n",
    "np.save(os.path.join(constants.XCORR_DIR_BASE, 'bootstrap', \"covar_mosdef_v0.npy\"), Covar_mosdef)\n",
    "np.save(os.path.join(constants.XCORR_DIR_BASE, 'bootstrap', \"bootsamp_mosdef_v0.npy\"), XCorrSamples_mosdef)\n"
   ]
  },
  {
   "cell_type": "markdown",
   "metadata": {},
   "source": [
    "### Bootstrap VUDS Sample"
   ]
  },
  {
   "cell_type": "code",
   "execution_count": null,
   "metadata": {},
   "outputs": [],
   "source": [
    "nsamp=200\n",
    "np.random.seed(seed=1223456)\n",
    "\n",
    "GalCoords = Coord_vuds\n",
    "ngal = len(GalCoords)\n",
    "\n",
    "# Initialize output array to store all the bootstrap samples\n",
    "XCorrSamples_vuds = np.empty([len(SigEdges)-1, len(PiEdges)-1, nsamp])\n",
    "\n",
    "# This is the loop over the desired resamples\n",
    "for ii in range(0,nsamp):\n",
    "    if (ii % 5) == 0:\n",
    "        print(\"Iteration #\", ii)\n",
    "    # Make a copy of the pixels and resample\n",
    "    LyaPixTmp = copy.deepcopy(LyaPix)\n",
    "    LyaPixTmp = LyaPixTmp.resample()\n",
    "    # Resample galaxy positions\n",
    "    GalCoordTmp = GalCoords[np.random.choice(ngal,ngal,replace=True)]\n",
    "    XCorrTmp, _ = xcorr.xcorr_gal_lya(GalCoordTmp, LyaPixTmp,SigEdges, PiEdges,\n",
    "                                      cosmo=cosmo,verbose=0)\n",
    "    XCorrSamples_vuds[:,:,ii] = XCorrTmp"
   ]
  },
  {
   "cell_type": "code",
   "execution_count": null,
   "metadata": {},
   "outputs": [],
   "source": [
    "# First, reshape the bootstrap samples so that it has dimensions (nbin, nsamp)\n",
    "XBootReshaped = XCorrSamples_vuds.reshape(-1, XCorrSamples_vuds.shape[-1])\n",
    "Covar_vuds = np.cov(XBootReshaped)\n",
    "\n",
    "np.save(os.path.join(constants.XCORR_DIR_BASE, 'bootstrap', \"covar_vuds_v0.npy\"), Covar_vuds)\n",
    "np.save(os.path.join(constants.XCORR_DIR_BASE, 'bootstrap', \"bootsamp_vuds_v0.npy\"), XCorrSamples_vuds)"
   ]
  },
  {
   "cell_type": "markdown",
   "metadata": {},
   "source": [
    "### Bootstrap zCOSMOS-Deep Sample"
   ]
  },
  {
   "cell_type": "code",
   "execution_count": null,
   "metadata": {},
   "outputs": [],
   "source": [
    "nsamp=200\n",
    "np.random.seed(seed=1423456)\n",
    "\n",
    "GalCoords = Coord_zD\n",
    "ngal = len(GalCoords)\n",
    "\n",
    "# Initialize output array to store all the bootstrap samples\n",
    "XCorrSamples_zD = np.empty([len(SigEdges)-1, len(PiEdges)-1, nsamp])\n",
    "\n",
    "# This is the loop over the desired resamples\n",
    "for ii in range(0,nsamp):\n",
    "    if (ii % 5) == 0:\n",
    "        print(\"Iteration #\", ii)\n",
    "    # Make a copy of the pixels and resample\n",
    "    LyaPixTmp = copy.deepcopy(LyaPix)\n",
    "    LyaPixTmp = LyaPixTmp.resample()\n",
    "    # Resample galaxy positions\n",
    "    GalCoordTmp = GalCoords[np.random.choice(ngal,ngal,replace=True)]\n",
    "    XCorrTmp, _ = xcorr.xcorr_gal_lya(GalCoordTmp, LyaPixTmp,SigEdges, PiEdges,\n",
    "                                      cosmo=cosmo,verbose=0)\n",
    "    XCorrSamples_zD[:,:,ii] = XCorrTmp"
   ]
  },
  {
   "cell_type": "code",
   "execution_count": null,
   "metadata": {},
   "outputs": [],
   "source": [
    "# First, reshape the bootstrap samples so that it has dimensions (nbin, nsamp)\n",
    "XBootReshaped = XCorrSamples_zD.reshape(-1, XCorrSamples_zD.shape[-1])\n",
    "Covar_zD = np.cov(XBootReshaped)\n",
    "\n",
    "np.save(os.path.join(constants.XCORR_DIR_BASE, 'bootstrap', \"covar_zDeep_v0.npy\"), Covar_zD)\n",
    "np.save(os.path.join(constants.XCORR_DIR_BASE, 'bootstrap', \"bootsamp_zDeep_v0.npy\"), XCorrSamples_zD)\n"
   ]
  },
  {
   "cell_type": "markdown",
   "metadata": {},
   "source": [
    "### Bootstrap CLAMATO sample"
   ]
  },
  {
   "cell_type": "code",
   "execution_count": null,
   "metadata": {},
   "outputs": [],
   "source": [
    "nsamp=200\n",
    "np.random.seed(seed=14234567)\n",
    "\n",
    "GalCoords = Coord_clamato\n",
    "ngal = len(GalCoords)\n",
    "\n",
    "# Initialize output array to store all the bootstrap samples\n",
    "XCorrSamples_clamato = np.empty([len(SigEdges)-1, len(PiEdges)-1, nsamp])\n",
    "\n",
    "# This is the loop over the desired resamples\n",
    "for ii in range(0,nsamp):\n",
    "    if (ii % 5) == 0:\n",
    "        print(\"Iteration #\", ii)\n",
    "    # Make a copy of the pixels and resample\n",
    "    LyaPixTmp = copy.deepcopy(LyaPix)\n",
    "    LyaPixTmp = LyaPixTmp.resample()\n",
    "    # Resample galaxy positions\n",
    "    GalCoordTmp = GalCoords[np.random.choice(ngal,ngal,replace=True)]\n",
    "    XCorrTmp, _ = xcorr.xcorr_gal_lya(GalCoordTmp, LyaPixTmp,SigEdges, PiEdges,\n",
    "                                      cosmo=cosmo,verbose=0)\n",
    "    XCorrSamples_clamato[:,:,ii] = XCorrTmp\n",
    "    \n",
    "# First, reshape the bootstrap samples so that it has dimensions (nbin, nsamp)\n",
    "XBootReshaped = XCorrSamples_clamato.reshape(-1, XCorrSamples_clamato.shape[-1])\n",
    "Covar_clamato = np.cov(XBootReshaped)\n",
    "\n",
    "np.save(os.path.join(constants.XCORR_DIR_BASE, 'bootstrap', \"covar_clamato_v0.npy\"), Covar_clamato)\n",
    "np.save(os.path.join(constants.XCORR_DIR_BASE, 'bootstrap', \"bootsamp_clamato_v0.npy\"),XCorrSamples_clamato)"
   ]
  },
  {
   "cell_type": "markdown",
   "metadata": {},
   "source": [
    "### Bootstrap 3D-HST Sample"
   ]
  },
  {
   "cell_type": "code",
   "execution_count": null,
   "metadata": {},
   "outputs": [],
   "source": [
    "nsamp=200\n",
    "np.random.seed(seed=6123456)\n",
    "\n",
    "GalCoords = Coord_3d\n",
    "ngal = len(GalCoords)\n",
    "\n",
    "# Initialize output array to store all the bootstrap samples\n",
    "XCorrSamples_3d = np.empty([len(SigEdges)-1, len(PiEdges)-1, nsamp])\n",
    "\n",
    "# This is the loop over the desired resamples\n",
    "for ii in range(0,nsamp):\n",
    "    if (ii % 5) == 0:\n",
    "        print(\"Iteration #\", ii)\n",
    "    # Make a copy of the pixels and resample\n",
    "    LyaPixTmp = copy.deepcopy(LyaPix)\n",
    "    LyaPixTmp = LyaPixTmp.resample()\n",
    "    # Resample galaxy positions\n",
    "    GalCoordTmp = GalCoords[np.random.choice(ngal,ngal,replace=True)]\n",
    "    XCorrTmp, _ = xcorr.xcorr_gal_lya(GalCoordTmp, LyaPixTmp,SigEdges, PiEdges,\n",
    "                                      cosmo=cosmo,verbose=0)\n",
    "    XCorrSamples_3d[:,:,ii] = XCorrTmp"
   ]
  },
  {
   "cell_type": "code",
   "execution_count": null,
   "metadata": {},
   "outputs": [],
   "source": [
    "# First, reshape the bootstrap samples so that it has dimensions (nbin, nsamp)\n",
    "XBootReshaped = XCorrSamples_3d.reshape(-1, XCorrSamples_3d.shape[-1])\n",
    "Covar_3d = np.cov(XBootReshaped)\n",
    "\n",
    "np.save(os.path.join(constants.XCORR_DIR_BASE, 'bootstrap', \"covar_3dhst_v0.npy\"), Covar_3d)\n",
    "np.save(os.path.join(constants.XCORR_DIR_BASE, 'bootstrap', \"bootsamp_3dhst_v0.npy\"), XCorrSamples_3d)"
   ]
  }
 ],
 "metadata": {
  "kernelspec": {
   "display_name": "clamato-xcorr",
   "language": "python",
   "name": "clamato-xcorr"
  },
  "language_info": {
   "codemirror_mode": {
    "name": "ipython",
    "version": 3
   },
   "file_extension": ".py",
   "mimetype": "text/x-python",
   "name": "python",
   "nbconvert_exporter": "python",
   "pygments_lexer": "ipython3",
   "version": "3.6.13"
  }
 },
 "nbformat": 4,
 "nbformat_minor": 4
}
