{
 "cells": [
  {
   "cell_type": "markdown",
   "metadata": {},
   "source": [
    "### Compute Mean-Flux as function of redshift\n",
    "\n",
    "In order to ensure that the overall $\\delta_F$ level is zero...\n",
    "\n",
    "The pixel data needs to be generated using the IDL script GEN_CROSSCORR_INPUT.PRO"
   ]
  },
  {
   "cell_type": "code",
   "execution_count": null,
   "metadata": {},
   "outputs": [],
   "source": [
    "import numpy as np\n",
    "import time as time\n",
    "import os\n",
    "import lyafxcorr_kg as xcorr\n",
    "import constants\n",
    "\n",
    "# Set up matplotlib and use a nicer set of plot parameters\n",
    "# %config InlineBackend.rc = {}\n",
    "import matplotlib as mpl\n",
    "mpl.rc('mathtext',fontset='stixsans')\n",
    "mpl.rc('figure', facecolor=\"white\")\n",
    "#matplotlib.rc_file(\"../../templates/matplotlibrc\")\n",
    "import matplotlib.pyplot as plt\n",
    "#import matplotlib.colors as colors\n",
    "# %matplotlib notebook\n",
    "\n",
    "from astropy.cosmology import FlatLambdaCDM\n",
    "from astropy.io import fits\n",
    "from astropy.io import ascii\n",
    "from astropy.table import Table\n",
    "from astropy import units as u\n",
    "from astropy.coordinates import SkyCoord\n",
    "\n",
    "def taueff_evo(z):\n",
    "    return 0.001845 * (1.+z)**3.924\n",
    "\n",
    "def var_lyaf(z):\n",
    "    return 0.065* ((1.+z)/3.25)**3.8\n",
    "\n",
    "# Define cosmology\n",
    "cosmo = constants.COSMOLOGY\n",
    "\n",
    "base_path = \"data/clamato_dr2\"\n",
    "    \n",
    "lyapix = xcorr.lyapix(os.path.join(base_path, \"pixel_radecz_cl2020_v0.bin\"),cosmo=cosmo)\n",
    "\n",
    "\n",
    "print(\"Read in %i Ly-a forest pixels\" % lyapix.npix)\n",
    "npix = lyapix.npix\n",
    "\n",
    "fig, ax = plt.subplots()\n",
    "binwidth = 0.05\n",
    "histdata = lyapix.z\n",
    "\n",
    "ax.hist(histdata,bins=np.arange(min(histdata),max(histdata) + binwidth, binwidth))\n",
    "plt.show()"
   ]
  },
  {
   "cell_type": "markdown",
   "metadata": {},
   "source": [
    "Carry out mean-flux calculation... begin by converting the deltas and sigmas back to $F$ basis"
   ]
  },
  {
   "cell_type": "code",
   "execution_count": null,
   "metadata": {},
   "outputs": [],
   "source": [
    "zmax = 2.7\n",
    "zmin = 1.9\n",
    "dzbin = 0.05\n",
    "\n",
    "# Convert delta_F back to F\n",
    "Fvec = (1. + lyapix.delta)*np.exp(-taueff_evo(lyapix.z))\n",
    "\n",
    "# generate the weight vectors\n",
    "w_F = lyapix.w / np.exp(-2. * taueff_evo(lyapix.z))\n",
    "\n",
    "nbin = round((zmax - zmin)/dzbin)\n",
    "zbins = np.arange(zmin, zmax-dzbin, dzbin)\n",
    "Fmeas = np.empty(nbin)\n",
    "\n",
    "print(f'Overall mean flux is {np.average(Fvec, weights=w_F)}')\n",
    "for ii in range(0, nbin):\n",
    "    zlower = zbins[ii]\n",
    "    zupper = zlower + dzbin\n",
    "    grabpix = np.all(np.column_stack([(lyapix.z >= zlower),(lyapix.z<zupper)]), axis=1)\n",
    "    Fmeas[ii] = np.sum(w_F[grabpix]*Fvec[grabpix])/np.sum(w_F[grabpix])\n",
    "\n",
    "    \n",
    "fig, ax = plt.subplots()\n",
    "ax.plot(zbins+dzbin/2., Fmeas, label='Measured')\n",
    "ax.plot(zbins+dzbin/2., np.exp(-taueff_evo(zbins+dzbin/2.)), color='r',\n",
    "        linestyle='--', label='BH2013')\n",
    "ax.set_xlabel(r'$z_{\\alpha}$')\n",
    "ax.set_ylabel(r'$\\langle F \\rangle (z)$')\n",
    "\n",
    "plt.legend(loc='upper right',handlelength=4)\n",
    "\n",
    "plt.show()\n",
    "\n",
    "ascii.write([zbins+dzbin/2., Fmeas], os.path.join(base_path, 'fmean_measured_v0.dat'), names=['zmid', 'F_mean'])"
   ]
  },
  {
   "cell_type": "code",
   "execution_count": null,
   "metadata": {},
   "outputs": [],
   "source": []
  }
 ],
 "metadata": {
  "kernelspec": {
   "display_name": "clamato-xcorr",
   "language": "python",
   "name": "clamato-xcorr"
  },
  "language_info": {
   "codemirror_mode": {
    "name": "ipython",
    "version": 3
   },
   "file_extension": ".py",
   "mimetype": "text/x-python",
   "name": "python",
   "nbconvert_exporter": "python",
   "pygments_lexer": "ipython3",
   "version": "3.6.13"
  }
 },
 "nbformat": 4,
 "nbformat_minor": 4
}
