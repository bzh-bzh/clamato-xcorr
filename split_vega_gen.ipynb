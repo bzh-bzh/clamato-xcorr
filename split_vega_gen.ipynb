{
 "cells": [
  {
   "cell_type": "code",
   "execution_count": null,
   "id": "73f8c0f9-9be1-4116-b495-70465c8b8390",
   "metadata": {},
   "outputs": [],
   "source": [
    "from astropy.io import fits, ascii\n",
    "from astropy.table import Table\n",
    "import numpy as np\n",
    "import yaml\n",
    "\n",
    "from pathlib import Path\n",
    "import glob\n",
    "import os\n",
    "import configparser\n",
    "import random\n",
    "\n",
    "import constants"
   ]
  },
  {
   "cell_type": "code",
   "execution_count": null,
   "id": "26fd6331-f54c-470a-83f0-242fec319131",
   "metadata": {},
   "outputs": [],
   "source": [
    "VEGA_TEMPLATE_DIR = Path('/global/homes/b/bzh/clamato-xcorr/vega_cfg')\n",
    "\n",
    "\n",
    "# Read bin edges\n",
    "PiBin_fil = os.path.join(constants.XCORR_DIR_BASE, 'bins23_pi_0-30hMpc.txt')\n",
    "SigBin_fil = os.path.join(constants.XCORR_DIR_BASE, 'bins10_sigma_0-30hMpc.txt')\n",
    "\n",
    "PiBins0 = ascii.read(PiBin_fil)['pi_edges'].data\n",
    "SigBins0 = ascii.read(SigBin_fil)['sigma_edges'].data\n",
    "\n",
    "# vega interprets these as center values.\n",
    "RP_VALS = (PiBins0[1:] + PiBins0[:-1]) / 2\n",
    "RT_VALS =  (SigBins0[1:] + SigBins0[:-1]) / 2\n",
    "\n",
    "RT_GRID, RP_GRID = np.meshgrid(RT_VALS, RP_VALS)\n",
    "\n",
    "Z_EFF = 2.3"
   ]
  },
  {
   "cell_type": "code",
   "execution_count": null,
   "id": "a0db71b8-cfe0-462f-b456-5ac0edf0dc66",
   "metadata": {},
   "outputs": [],
   "source": [
    "def gen_vega_config_and_data(survey_name,\n",
    "                             suffix,\n",
    "                             use_raw_covar=True,\n",
    "                             xcorr_base=Path(constants.XCORR_DIR_BASE) / 'split',\n",
    "                             output_base=Path(constants.MCMC_DIR_BASE) / '..' / 'split-mcmc'):\n",
    "    output_base = output_base / survey_name\n",
    "    os.makedirs(output_base, exist_ok=True)\n",
    "    \n",
    "    # Generate picca-format FITS file.\n",
    "    obs_xcorr = np.load(xcorr_base / f'xcorr_{survey_name}_{suffix}_globalf_{constants.DATA_VERSION}.npy')\n",
    "    covar_path = glob.glob(os.path.join(constants.XCORR_DIR_BASE, 'mock', 'covar', f\"covar_{'raw' if use_raw_covar else ''}mock*_\"+survey_name+f\"_{constants.DATA_VERSION}.npy\"))\n",
    "    assert len(covar_path) == 1\n",
    "    covar = np.load(covar_path[0])\n",
    "    assert obs_xcorr.dtype == np.double and covar.dtype == np.double\n",
    "    \n",
    "    data_table = Table([covar, obs_xcorr.flatten(), RT_GRID.flatten(order='F'), RP_GRID.flatten(order='F'), np.full(obs_xcorr.size, Z_EFF)],\n",
    "                      names=['CO', 'DA', 'RT', 'RP', 'Z'])\n",
    "    data_hdu = fits.BinTableHDU(data=data_table)\n",
    "    data_hdu.header['RPMIN'] = min(RP_VALS)\n",
    "    data_hdu.header['RPMAX'] = max(RP_VALS)\n",
    "    data_hdu.header['NP'] = len(RP_VALS)\n",
    "    data_hdu.header['RTMIN'] = min(RT_VALS)\n",
    "    data_hdu.header['RTMAX'] = max(RT_VALS)\n",
    "    data_hdu.header['NT'] = len(RT_VALS)\n",
    "    data_hdu.header['BLINDING'] = 'none'\n",
    "    hdul = fits.HDUList([fits.PrimaryHDU(), data_hdu])\n",
    "    hdul_path = output_base / f'{survey_name}_{suffix}.fits'\n",
    "    hdul.writeto(hdul_path, overwrite=True)\n",
    "    \n",
    "    # Copy template .ini files to output base folder, and change filenames.\n",
    "    tracer_cfg = configparser.ConfigParser()\n",
    "    tracer_cfg.optionxform=str\n",
    "    tracer_cfg.read(VEGA_TEMPLATE_DIR / 'qsoxlya_template.ini')\n",
    "    tracer_cfg['data']['filename'] = str(hdul_path)\n",
    "    tracer_cfg_path = output_base / f'qsoxlya_{survey_name}_{suffix}.ini'\n",
    "    with open(tracer_cfg_path, 'w') as f:\n",
    "        tracer_cfg.write(f)\n",
    "    \n",
    "    main_cfg = configparser.ConfigParser()\n",
    "    main_cfg.optionxform=str\n",
    "    main_cfg.read(VEGA_TEMPLATE_DIR / 'main_template.ini')\n",
    "    main_cfg['data sets']['ini files'] = str(tracer_cfg_path)\n",
    "    with open(output_base / f'main_{survey_name}_{suffix}.ini', 'w') as f:\n",
    "        main_cfg.write(f)"
   ]
  },
  {
   "cell_type": "code",
   "execution_count": null,
   "id": "0791ce12-abfc-4417-a278-8a66ac88bdbf",
   "metadata": {},
   "outputs": [],
   "source": [
    "for bin_title in constants.STACKED_BIN_TITLES:\n",
    "    for s in ['vuds', 'zDeep', 'mosdef', 'clamato']:\n",
    "        gen_vega_config_and_data(s, bin_title)"
   ]
  }
 ],
 "metadata": {
  "kernelspec": {
   "display_name": "clamato-xcorr",
   "language": "python",
   "name": "clamato-xcorr"
  },
  "language_info": {
   "codemirror_mode": {
    "name": "ipython",
    "version": 3
   },
   "file_extension": ".py",
   "mimetype": "text/x-python",
   "name": "python",
   "nbconvert_exporter": "python",
   "pygments_lexer": "ipython3",
   "version": "3.6.13"
  }
 },
 "nbformat": 4,
 "nbformat_minor": 5
}
