{
 "cells": [
  {
   "cell_type": "code",
   "execution_count": null,
   "id": "35b502cb-a4f2-48c6-a0c4-e49de862cae1",
   "metadata": {
    "tags": []
   },
   "outputs": [],
   "source": [
    "import os\n",
    "\n",
    "import numpy as np\n",
    "import illustris_python as il\n",
    "%pylab inline\n",
    "\n",
    "import constants"
   ]
  },
  {
   "cell_type": "code",
   "execution_count": null,
   "id": "b799e09d-bb21-46ac-a0e9-3bbc00aac87e",
   "metadata": {},
   "outputs": [],
   "source": [
    "base_path = os.path.join(constants.TNG_DIR_BASE, 'output')\n",
    "to_msun_conversion_fac = 1e10 / 0.6774\n",
    "\n",
    "subhalos = il.groupcat.loadSubhalos(base_path, 30, fields=['SubhaloMassType'])"
   ]
  },
  {
   "cell_type": "code",
   "execution_count": null,
   "id": "9ca4d6fa-7fa3-477b-84d5-f802e5e6b05b",
   "metadata": {
    "tags": []
   },
   "outputs": [],
   "source": [
    "dm_mass, stellar_mass = subhalos[:, 1], subhalos[:, 4]\n",
    "dm_mass *= to_msun_conversion_fac\n",
    "stellar_mass *= to_msun_conversion_fac"
   ]
  },
  {
   "cell_type": "code",
   "execution_count": null,
   "id": "00ca59f9-e9dc-4924-9c95-ae31e4569392",
   "metadata": {
    "tags": []
   },
   "outputs": [],
   "source": [
    "print(np.sum(dm_mass == 0))\n",
    "print(np.sum(stellar_mass == 0))"
   ]
  },
  {
   "cell_type": "code",
   "execution_count": null,
   "id": "a1aacbb3-f595-4335-824d-05a6bd4cc2f9",
   "metadata": {
    "tags": []
   },
   "outputs": [],
   "source": [
    "mask = np.logical_or(dm_mass == 0, stellar_mass == 0)\n",
    "dm_mass = dm_mass[~mask]\n",
    "stellar_mass = stellar_mass[~mask]\n",
    "\n",
    "log10_dm_mass = np.log10(dm_mass)\n",
    "log10_stellar_mass = np.log10(stellar_mass)"
   ]
  },
  {
   "cell_type": "code",
   "execution_count": null,
   "id": "ea44fa31-c228-45ef-9a53-07afebcf1901",
   "metadata": {
    "tags": []
   },
   "outputs": [],
   "source": [
    "plt.hist(log10_dm_mass)\n",
    "plt.show()\n",
    "plt.hist(log10_stellar_mass)"
   ]
  },
  {
   "cell_type": "code",
   "execution_count": null,
   "id": "137f8f79-7048-4900-809f-2bac1240dec0",
   "metadata": {
    "tags": []
   },
   "outputs": [],
   "source": [
    "universemachine_z2_3 = np.loadtxt(os.path.join(constants.AUX_DIR_BASE, 'umachine-dr1/data/smhm/averages/hm_averages_a0.303685.dat'))\n",
    "umachine_smass_bin_edges = universemachine_z2_3[:, 64:66]\n",
    "smass_bin_center = universemachine_z2_3[:, 0]"
   ]
  },
  {
   "cell_type": "code",
   "execution_count": null,
   "id": "5a1aa244-2024-4a58-8d58-bfb7fba15062",
   "metadata": {
    "tags": []
   },
   "outputs": [],
   "source": [
    "for edges, center in zip(umachine_smass_bin_edges, smass_bin_center):\n",
    "    print(edges, center)\n",
    "    assert np.isclose(center, (edges[0] + edges[1]) / 2)"
   ]
  },
  {
   "cell_type": "code",
   "execution_count": null,
   "id": "51327ddd-2bd0-4c16-9b22-217852436a6c",
   "metadata": {
    "tags": []
   },
   "outputs": [],
   "source": [
    "# for each stellar mass bin, compute average halo (DM) mass in linspace for TNG\n",
    "tng_hmass = []\n",
    "for edges in umachine_smass_bin_edges:\n",
    "    mask = np.logical_and(stellar_mass >= 10**edges[0], stellar_mass < 10**edges[1])\n",
    "    tng_hmass.append(np.mean(dm_mass[mask]))\n",
    "    \n",
    "tng_log10_hmass = np.log10(np.array(tng_hmass))"
   ]
  },
  {
   "cell_type": "code",
   "execution_count": null,
   "id": "93bb29a2-ae58-4b43-bb6b-8b8c897a967b",
   "metadata": {
    "tags": []
   },
   "outputs": [],
   "source": [
    "plt.plot(smass_bin_center, tng_log10_hmass)"
   ]
  },
  {
   "cell_type": "code",
   "execution_count": null,
   "id": "3e23757d-29a8-4a31-b0c4-04fd653e1399",
   "metadata": {
    "tags": []
   },
   "outputs": [],
   "source": [
    "output_arr = np.array([smass_bin_center, tng_log10_hmass]).T\n",
    "print(output_arr.shape)\n",
    "np.save(os.path.join(constants.AUX_DIR_BASE, 'tng100-1_z2.3_log10_smhm.npy'), output_arr)"
   ]
  }
 ],
 "metadata": {
  "kernelspec": {
   "display_name": "clamato-xcorr",
   "language": "python",
   "name": "clamato-xcorr"
  },
  "language_info": {
   "codemirror_mode": {
    "name": "ipython",
    "version": 3
   },
   "file_extension": ".py",
   "mimetype": "text/x-python",
   "name": "python",
   "nbconvert_exporter": "python",
   "pygments_lexer": "ipython3",
   "version": "3.6.13"
  }
 },
 "nbformat": 4,
 "nbformat_minor": 5
}
